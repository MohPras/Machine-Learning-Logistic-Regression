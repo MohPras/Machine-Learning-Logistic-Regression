{
  "cells": [
    {
      "cell_type": "markdown",
      "source": [
        "NAMA : Mohammad Nurdin Prastya Hermansah\n",
        "\n",
        "Prodi : D4 Teknik Elektronika\n",
        "\n",
        "NIM: 20507334047"
      ],
      "metadata": {
        "id": "cYGbV6gEu_3D"
      }
    },
    {
      "cell_type": "markdown",
      "metadata": {
        "id": "wQeDDgjfttDk"
      },
      "source": [
        "# Machine Learning Exercise 2 - Logistic Regression"
      ]
    },
    {
      "cell_type": "markdown",
      "metadata": {
        "id": "6-b-IujxttDr"
      },
      "source": [
        "In this exercise we'll implement logistic regression and apply it to a classification task.  We'll also improve the robustness of our implementation by adding regularization to the training algorithm. and testing it on a more difficult problem."
      ]
    },
    {
      "cell_type": "markdown",
      "source": [
        "**Aertinya**\n",
        "\n",
        "Dalam latihan ini kita akan menerapkan logistic regression untuk menerapkannya pada tugas pengklasifikasian. Kami juga akan meningkatkan ketahanan penerapan kami dengan menambahkan regularisasi ke algoritme pelatihan. dan mengujinya pada soal yang lebih sulit."
      ],
      "metadata": {
        "id": "Smo-SdYXfvgv"
      }
    },
    {
      "cell_type": "markdown",
      "metadata": {
        "id": "x7qLyCXSttDs"
      },
      "source": [
        "## Logistic regression"
      ]
    },
    {
      "cell_type": "markdown",
      "metadata": {
        "id": "7pSpENoYttDv"
      },
      "source": [
        "In the first part of this exercise, we'll build a logistic regression model to predict whether a student gets admitted to a university.  Suppose that you are the administrator of a university department and you want to determine each applicant's chance of admission based on their results on two exams. You have historical data from previous applicants that you can use as a training set for logistic regression.  For each training example, you have the applicant's scores on two exams and the admissions decision.  To accomplish this, we're going to build a classification model that estimates the probability of admission based on the exam scores.\n",
        "\n",
        "**Artinya**\n",
        "\n",
        "Pada bagian pertama latihan ini, kita akan membuat model regresi logistik untuk memprediksi apakah seorang siswa diterima di universitas. Misalkan Anda adalah administrator departemen universitas dan Anda ingin menentukan peluang penerimaan setiap pelamar berdasarkan hasil mereka pada dua ujian. Anda harus memiliki data historis dari pelamar sebelumnya yang dapat Anda gunakan sebagai set pelatihan untuk melakukan logistic regression. Untuk setiap contoh pelatihan, Anda memiliki skor pelamar pada dua ujian dan keputusan penerimaan. Untuk melakukannya, kami akan membuat model klasifikasi yang memperkirakan kemungkinan penerimaan berdasarkan nilai ujian."
      ]
    },
    {
      "cell_type": "code",
      "execution_count": 1,
      "metadata": {
        "id": "6FFa9IZDttDx"
      },
      "outputs": [],
      "source": [
        "# import library\n",
        "import numpy as np\n",
        "import pandas as pd\n",
        "import matplotlib.pyplot as plt\n",
        "from scipy import optimize"
      ]
    },
    {
      "cell_type": "code",
      "execution_count": 2,
      "metadata": {
        "id": "0FRMKg-HT193",
        "outputId": "a5e39e29-7622-4680-fecd-52e79580413e",
        "colab": {
          "base_uri": "https://localhost:8080/",
          "height": 74
        }
      },
      "outputs": [
        {
          "output_type": "display_data",
          "data": {
            "text/plain": [
              "<IPython.core.display.HTML object>"
            ],
            "text/html": [
              "\n",
              "     <input type=\"file\" id=\"files-c576f2be-d20c-4526-be96-7c08c1987b8d\" name=\"files[]\" multiple disabled\n",
              "        style=\"border:none\" />\n",
              "     <output id=\"result-c576f2be-d20c-4526-be96-7c08c1987b8d\">\n",
              "      Upload widget is only available when the cell has been executed in the\n",
              "      current browser session. Please rerun this cell to enable.\n",
              "      </output>\n",
              "      <script>// Copyright 2017 Google LLC\n",
              "//\n",
              "// Licensed under the Apache License, Version 2.0 (the \"License\");\n",
              "// you may not use this file except in compliance with the License.\n",
              "// You may obtain a copy of the License at\n",
              "//\n",
              "//      http://www.apache.org/licenses/LICENSE-2.0\n",
              "//\n",
              "// Unless required by applicable law or agreed to in writing, software\n",
              "// distributed under the License is distributed on an \"AS IS\" BASIS,\n",
              "// WITHOUT WARRANTIES OR CONDITIONS OF ANY KIND, either express or implied.\n",
              "// See the License for the specific language governing permissions and\n",
              "// limitations under the License.\n",
              "\n",
              "/**\n",
              " * @fileoverview Helpers for google.colab Python module.\n",
              " */\n",
              "(function(scope) {\n",
              "function span(text, styleAttributes = {}) {\n",
              "  const element = document.createElement('span');\n",
              "  element.textContent = text;\n",
              "  for (const key of Object.keys(styleAttributes)) {\n",
              "    element.style[key] = styleAttributes[key];\n",
              "  }\n",
              "  return element;\n",
              "}\n",
              "\n",
              "// Max number of bytes which will be uploaded at a time.\n",
              "const MAX_PAYLOAD_SIZE = 100 * 1024;\n",
              "\n",
              "function _uploadFiles(inputId, outputId) {\n",
              "  const steps = uploadFilesStep(inputId, outputId);\n",
              "  const outputElement = document.getElementById(outputId);\n",
              "  // Cache steps on the outputElement to make it available for the next call\n",
              "  // to uploadFilesContinue from Python.\n",
              "  outputElement.steps = steps;\n",
              "\n",
              "  return _uploadFilesContinue(outputId);\n",
              "}\n",
              "\n",
              "// This is roughly an async generator (not supported in the browser yet),\n",
              "// where there are multiple asynchronous steps and the Python side is going\n",
              "// to poll for completion of each step.\n",
              "// This uses a Promise to block the python side on completion of each step,\n",
              "// then passes the result of the previous step as the input to the next step.\n",
              "function _uploadFilesContinue(outputId) {\n",
              "  const outputElement = document.getElementById(outputId);\n",
              "  const steps = outputElement.steps;\n",
              "\n",
              "  const next = steps.next(outputElement.lastPromiseValue);\n",
              "  return Promise.resolve(next.value.promise).then((value) => {\n",
              "    // Cache the last promise value to make it available to the next\n",
              "    // step of the generator.\n",
              "    outputElement.lastPromiseValue = value;\n",
              "    return next.value.response;\n",
              "  });\n",
              "}\n",
              "\n",
              "/**\n",
              " * Generator function which is called between each async step of the upload\n",
              " * process.\n",
              " * @param {string} inputId Element ID of the input file picker element.\n",
              " * @param {string} outputId Element ID of the output display.\n",
              " * @return {!Iterable<!Object>} Iterable of next steps.\n",
              " */\n",
              "function* uploadFilesStep(inputId, outputId) {\n",
              "  const inputElement = document.getElementById(inputId);\n",
              "  inputElement.disabled = false;\n",
              "\n",
              "  const outputElement = document.getElementById(outputId);\n",
              "  outputElement.innerHTML = '';\n",
              "\n",
              "  const pickedPromise = new Promise((resolve) => {\n",
              "    inputElement.addEventListener('change', (e) => {\n",
              "      resolve(e.target.files);\n",
              "    });\n",
              "  });\n",
              "\n",
              "  const cancel = document.createElement('button');\n",
              "  inputElement.parentElement.appendChild(cancel);\n",
              "  cancel.textContent = 'Cancel upload';\n",
              "  const cancelPromise = new Promise((resolve) => {\n",
              "    cancel.onclick = () => {\n",
              "      resolve(null);\n",
              "    };\n",
              "  });\n",
              "\n",
              "  // Wait for the user to pick the files.\n",
              "  const files = yield {\n",
              "    promise: Promise.race([pickedPromise, cancelPromise]),\n",
              "    response: {\n",
              "      action: 'starting',\n",
              "    }\n",
              "  };\n",
              "\n",
              "  cancel.remove();\n",
              "\n",
              "  // Disable the input element since further picks are not allowed.\n",
              "  inputElement.disabled = true;\n",
              "\n",
              "  if (!files) {\n",
              "    return {\n",
              "      response: {\n",
              "        action: 'complete',\n",
              "      }\n",
              "    };\n",
              "  }\n",
              "\n",
              "  for (const file of files) {\n",
              "    const li = document.createElement('li');\n",
              "    li.append(span(file.name, {fontWeight: 'bold'}));\n",
              "    li.append(span(\n",
              "        `(${file.type || 'n/a'}) - ${file.size} bytes, ` +\n",
              "        `last modified: ${\n",
              "            file.lastModifiedDate ? file.lastModifiedDate.toLocaleDateString() :\n",
              "                                    'n/a'} - `));\n",
              "    const percent = span('0% done');\n",
              "    li.appendChild(percent);\n",
              "\n",
              "    outputElement.appendChild(li);\n",
              "\n",
              "    const fileDataPromise = new Promise((resolve) => {\n",
              "      const reader = new FileReader();\n",
              "      reader.onload = (e) => {\n",
              "        resolve(e.target.result);\n",
              "      };\n",
              "      reader.readAsArrayBuffer(file);\n",
              "    });\n",
              "    // Wait for the data to be ready.\n",
              "    let fileData = yield {\n",
              "      promise: fileDataPromise,\n",
              "      response: {\n",
              "        action: 'continue',\n",
              "      }\n",
              "    };\n",
              "\n",
              "    // Use a chunked sending to avoid message size limits. See b/62115660.\n",
              "    let position = 0;\n",
              "    do {\n",
              "      const length = Math.min(fileData.byteLength - position, MAX_PAYLOAD_SIZE);\n",
              "      const chunk = new Uint8Array(fileData, position, length);\n",
              "      position += length;\n",
              "\n",
              "      const base64 = btoa(String.fromCharCode.apply(null, chunk));\n",
              "      yield {\n",
              "        response: {\n",
              "          action: 'append',\n",
              "          file: file.name,\n",
              "          data: base64,\n",
              "        },\n",
              "      };\n",
              "\n",
              "      let percentDone = fileData.byteLength === 0 ?\n",
              "          100 :\n",
              "          Math.round((position / fileData.byteLength) * 100);\n",
              "      percent.textContent = `${percentDone}% done`;\n",
              "\n",
              "    } while (position < fileData.byteLength);\n",
              "  }\n",
              "\n",
              "  // All done.\n",
              "  yield {\n",
              "    response: {\n",
              "      action: 'complete',\n",
              "    }\n",
              "  };\n",
              "}\n",
              "\n",
              "scope.google = scope.google || {};\n",
              "scope.google.colab = scope.google.colab || {};\n",
              "scope.google.colab._files = {\n",
              "  _uploadFiles,\n",
              "  _uploadFilesContinue,\n",
              "};\n",
              "})(self);\n",
              "</script> "
            ]
          },
          "metadata": {}
        },
        {
          "output_type": "stream",
          "name": "stdout",
          "text": [
            "Saving ex2data1.txt to ex2data1.txt\n"
          ]
        }
      ],
      "source": [
        "# import data\n",
        "from google.colab import files\n",
        "uploaded = files.upload()"
      ]
    },
    {
      "cell_type": "code",
      "execution_count": 3,
      "metadata": {
        "id": "-unkWudgUbRd",
        "outputId": "dfdb18a8-dbd0-47d8-cfa8-08a4a021c6f7",
        "colab": {
          "base_uri": "https://localhost:8080/",
          "height": 206
        }
      },
      "outputs": [
        {
          "output_type": "execute_result",
          "data": {
            "text/plain": [
              "      Exam 1     Exam 2  Admitted\n",
              "0  34.623660  78.024693         0\n",
              "1  30.286711  43.894998         0\n",
              "2  35.847409  72.902198         0\n",
              "3  60.182599  86.308552         1\n",
              "4  79.032736  75.344376         1"
            ],
            "text/html": [
              "\n",
              "  <div id=\"df-1c5f64a0-9263-41b7-8f04-816955c58919\">\n",
              "    <div class=\"colab-df-container\">\n",
              "      <div>\n",
              "<style scoped>\n",
              "    .dataframe tbody tr th:only-of-type {\n",
              "        vertical-align: middle;\n",
              "    }\n",
              "\n",
              "    .dataframe tbody tr th {\n",
              "        vertical-align: top;\n",
              "    }\n",
              "\n",
              "    .dataframe thead th {\n",
              "        text-align: right;\n",
              "    }\n",
              "</style>\n",
              "<table border=\"1\" class=\"dataframe\">\n",
              "  <thead>\n",
              "    <tr style=\"text-align: right;\">\n",
              "      <th></th>\n",
              "      <th>Exam 1</th>\n",
              "      <th>Exam 2</th>\n",
              "      <th>Admitted</th>\n",
              "    </tr>\n",
              "  </thead>\n",
              "  <tbody>\n",
              "    <tr>\n",
              "      <th>0</th>\n",
              "      <td>34.623660</td>\n",
              "      <td>78.024693</td>\n",
              "      <td>0</td>\n",
              "    </tr>\n",
              "    <tr>\n",
              "      <th>1</th>\n",
              "      <td>30.286711</td>\n",
              "      <td>43.894998</td>\n",
              "      <td>0</td>\n",
              "    </tr>\n",
              "    <tr>\n",
              "      <th>2</th>\n",
              "      <td>35.847409</td>\n",
              "      <td>72.902198</td>\n",
              "      <td>0</td>\n",
              "    </tr>\n",
              "    <tr>\n",
              "      <th>3</th>\n",
              "      <td>60.182599</td>\n",
              "      <td>86.308552</td>\n",
              "      <td>1</td>\n",
              "    </tr>\n",
              "    <tr>\n",
              "      <th>4</th>\n",
              "      <td>79.032736</td>\n",
              "      <td>75.344376</td>\n",
              "      <td>1</td>\n",
              "    </tr>\n",
              "  </tbody>\n",
              "</table>\n",
              "</div>\n",
              "      <button class=\"colab-df-convert\" onclick=\"convertToInteractive('df-1c5f64a0-9263-41b7-8f04-816955c58919')\"\n",
              "              title=\"Convert this dataframe to an interactive table.\"\n",
              "              style=\"display:none;\">\n",
              "        \n",
              "  <svg xmlns=\"http://www.w3.org/2000/svg\" height=\"24px\"viewBox=\"0 0 24 24\"\n",
              "       width=\"24px\">\n",
              "    <path d=\"M0 0h24v24H0V0z\" fill=\"none\"/>\n",
              "    <path d=\"M18.56 5.44l.94 2.06.94-2.06 2.06-.94-2.06-.94-.94-2.06-.94 2.06-2.06.94zm-11 1L8.5 8.5l.94-2.06 2.06-.94-2.06-.94L8.5 2.5l-.94 2.06-2.06.94zm10 10l.94 2.06.94-2.06 2.06-.94-2.06-.94-.94-2.06-.94 2.06-2.06.94z\"/><path d=\"M17.41 7.96l-1.37-1.37c-.4-.4-.92-.59-1.43-.59-.52 0-1.04.2-1.43.59L10.3 9.45l-7.72 7.72c-.78.78-.78 2.05 0 2.83L4 21.41c.39.39.9.59 1.41.59.51 0 1.02-.2 1.41-.59l7.78-7.78 2.81-2.81c.8-.78.8-2.07 0-2.86zM5.41 20L4 18.59l7.72-7.72 1.47 1.35L5.41 20z\"/>\n",
              "  </svg>\n",
              "      </button>\n",
              "      \n",
              "  <style>\n",
              "    .colab-df-container {\n",
              "      display:flex;\n",
              "      flex-wrap:wrap;\n",
              "      gap: 12px;\n",
              "    }\n",
              "\n",
              "    .colab-df-convert {\n",
              "      background-color: #E8F0FE;\n",
              "      border: none;\n",
              "      border-radius: 50%;\n",
              "      cursor: pointer;\n",
              "      display: none;\n",
              "      fill: #1967D2;\n",
              "      height: 32px;\n",
              "      padding: 0 0 0 0;\n",
              "      width: 32px;\n",
              "    }\n",
              "\n",
              "    .colab-df-convert:hover {\n",
              "      background-color: #E2EBFA;\n",
              "      box-shadow: 0px 1px 2px rgba(60, 64, 67, 0.3), 0px 1px 3px 1px rgba(60, 64, 67, 0.15);\n",
              "      fill: #174EA6;\n",
              "    }\n",
              "\n",
              "    [theme=dark] .colab-df-convert {\n",
              "      background-color: #3B4455;\n",
              "      fill: #D2E3FC;\n",
              "    }\n",
              "\n",
              "    [theme=dark] .colab-df-convert:hover {\n",
              "      background-color: #434B5C;\n",
              "      box-shadow: 0px 1px 3px 1px rgba(0, 0, 0, 0.15);\n",
              "      filter: drop-shadow(0px 1px 2px rgba(0, 0, 0, 0.3));\n",
              "      fill: #FFFFFF;\n",
              "    }\n",
              "  </style>\n",
              "\n",
              "      <script>\n",
              "        const buttonEl =\n",
              "          document.querySelector('#df-1c5f64a0-9263-41b7-8f04-816955c58919 button.colab-df-convert');\n",
              "        buttonEl.style.display =\n",
              "          google.colab.kernel.accessAllowed ? 'block' : 'none';\n",
              "\n",
              "        async function convertToInteractive(key) {\n",
              "          const element = document.querySelector('#df-1c5f64a0-9263-41b7-8f04-816955c58919');\n",
              "          const dataTable =\n",
              "            await google.colab.kernel.invokeFunction('convertToInteractive',\n",
              "                                                     [key], {});\n",
              "          if (!dataTable) return;\n",
              "\n",
              "          const docLinkHtml = 'Like what you see? Visit the ' +\n",
              "            '<a target=\"_blank\" href=https://colab.research.google.com/notebooks/data_table.ipynb>data table notebook</a>'\n",
              "            + ' to learn more about interactive tables.';\n",
              "          element.innerHTML = '';\n",
              "          dataTable['output_type'] = 'display_data';\n",
              "          await google.colab.output.renderOutput(dataTable, element);\n",
              "          const docLink = document.createElement('div');\n",
              "          docLink.innerHTML = docLinkHtml;\n",
              "          element.appendChild(docLink);\n",
              "        }\n",
              "      </script>\n",
              "    </div>\n",
              "  </div>\n",
              "  "
            ]
          },
          "metadata": {},
          "execution_count": 3
        }
      ],
      "source": [
        "# membaca dan menampilkan data\n",
        "import io\n",
        "data = pd.read_csv(io.BytesIO(uploaded['ex2data1.txt']))\n",
        "data.head()"
      ]
    },
    {
      "cell_type": "markdown",
      "metadata": {
        "id": "VUXneO0dttD3"
      },
      "source": [
        "Let's create a scatter plot of the two scores and use color coding to visualize if the example is positive (admitted) or negative (not admitted).\n",
        "\n",
        "**Artinya**\n",
        "\n",
        "Mari buat persebaran/scatter plot dari dua skor dan gunakan kode warna untuk memvisualisasikan jika positif (diterima) dan negatif (tidak diterima)."
      ]
    },
    {
      "cell_type": "code",
      "execution_count": 5,
      "metadata": {
        "id": "4-sBxgVHttD3",
        "outputId": "89078107-3e8c-4516-a5e8-86e6fe7ee07a",
        "colab": {
          "base_uri": "https://localhost:8080/",
          "height": 514
        }
      },
      "outputs": [
        {
          "output_type": "execute_result",
          "data": {
            "text/plain": [
              "Text(0, 0.5, 'Exam 2 Score')"
            ]
          },
          "metadata": {},
          "execution_count": 5
        },
        {
          "output_type": "display_data",
          "data": {
            "text/plain": [
              "<Figure size 864x576 with 1 Axes>"
            ],
            "image/png": "[encoded data removed]"
          },
          "metadata": {
            "needs_background": "light"
          }
        }
      ],
      "source": [
        "# plot skor positif\n",
        "positive = data[data['Admitted'].isin([1])]\n",
        "# plotn skor negatif\n",
        "negative = data[data['Admitted'].isin([0])]\n",
        "\n",
        "# menampilkan hasil pemvisualisasian skor\n",
        "fig, ax = plt.subplots(figsize=(12,8))\n",
        "ax.scatter(positive['Exam 1'], positive['Exam 2'], s=50, c='g', marker='o', label='Admitted')\n",
        "ax.scatter(negative['Exam 1'], negative['Exam 2'], s=50, c='r', marker='x', label='Not Admitted')\n",
        "ax.legend()\n",
        "ax.set_xlabel('Exam 1 Score')\n",
        "ax.set_ylabel('Exam 2 Score')"
      ]
    },
    {
      "cell_type": "markdown",
      "metadata": {
        "id": "xlVVk3MwttD5"
      },
      "source": [
        "It looks like there is a clear decision boundary between the two classes.  Now we need to implement logistic regression so we can train a model to predict the outcome.  The equations implemented in the following code samples are detailed in \"ex2.pdf\" in the \"exercises\" folder.\n",
        "\n",
        "**Artinya**\n",
        "\n",
        "Sekarang kita sudah tau ada batas daerah persebaran data yang jelas antara kedua kelas dan hal yang perlu dilakukan sekarang adalah kita perlu mengimplementasikan regresi logistik sehingga kita dapat melatih model untuk memprediksi hasilnya. Persamaan yang diimplementasikan dalam contoh kode berikut dirinci dalam \"ex2.pdf\" di folder \"latihan\"."
      ]
    },
    {
      "cell_type": "markdown",
      "metadata": {
        "id": "LBFlvVHrttD6"
      },
      "source": [
        "First we need to create a sigmoid function.  The code for this is pretty simple.\n",
        "\n",
        "**Artinya**\n",
        "\n",
        "Langkah pertama kita perlu membuat fungsi sigmoid. Kode untuk ini cukup sederhana."
      ]
    },
    {
      "cell_type": "code",
      "execution_count": 6,
      "metadata": {
        "id": "VMxM2jMnttD6"
      },
      "outputs": [],
      "source": [
        "# membuat fungsi sigmoid\n",
        "def sigmoid(z):\n",
        "    return 1 / (1 + np.exp(-z))"
      ]
    },
    {
      "cell_type": "markdown",
      "metadata": {
        "id": "83mp2DCjttD7"
      },
      "source": [
        "Let's do a quick sanity check to make sure the function is working. ( Mari lakukan pemeriksaan untuk memastikan fungsinya berfungsi )"
      ]
    },
    {
      "cell_type": "code",
      "execution_count": 8,
      "metadata": {
        "id": "M5eVwI4qttD8",
        "outputId": "05116a62-31e0-49dc-f55c-a73081cbabe6",
        "colab": {
          "base_uri": "https://localhost:8080/",
          "height": 500
        }
      },
      "outputs": [
        {
          "output_type": "execute_result",
          "data": {
            "text/plain": [
              "[<matplotlib.lines.Line2D at 0x7fdec4a09d90>]"
            ]
          },
          "metadata": {},
          "execution_count": 8
        },
        {
          "output_type": "display_data",
          "data": {
            "text/plain": [
              "<Figure size 864x576 with 1 Axes>"
            ],
            "image/png": "[encoded data removed]"
          },
          "metadata": {
            "needs_background": "light"
          }
        }
      ],
      "source": [
        "nums = np.arange(-10, 10, step=1)\n",
        "\n",
        "fig, ax = plt.subplots(figsize=(12,8))\n",
        "ax.plot(nums, sigmoid(nums), 'b')"
      ]
    },
    {
      "cell_type": "markdown",
      "metadata": {
        "id": "xcidOXGBttD8"
      },
      "source": [
        "Excellent!  Now we need to write the cost function to evaluate a solution. ( sekarang kita harus menulis fungsi cost untuk mengevaluasi solusi.)"
      ]
    },
    {
      "cell_type": "code",
      "execution_count": 9,
      "metadata": {
        "id": "6tpaU3aWttD9"
      },
      "outputs": [],
      "source": [
        "# evaluasi solution\n",
        "def cost(theta, X, y):\n",
        "    theta = np.matrix(theta)\n",
        "    X = np.matrix(X)\n",
        "    y = np.matrix(y)\n",
        "    first = np.multiply(-y, np.log(sigmoid(X * theta.T)))\n",
        "    second = np.multiply((1 - y), np.log(1 - sigmoid(X * theta.T)))\n",
        "    return np.sum(first - second) / (len(X))"
      ]
    },
    {
      "cell_type": "markdown",
      "metadata": {
        "id": "r0jAr5ARttD-"
      },
      "source": [
        "Now we need to do some setup, similar to what we did in exercise 1 for linear regression.\n",
        "\n",
        "Sekarang kita perlu melakukan beberapa pengaturan, serupa dengan yang kita lakukan pada latihan 1 untuk regresi linier."
      ]
    },
    {
      "cell_type": "code",
      "execution_count": 10,
      "metadata": {
        "id": "BD434VmhttD_"
      },
      "outputs": [],
      "source": [
        "# add a ones column - this makes the matrix multiplication work out easier\n",
        "data.insert(0, 'Ones', 1)\n",
        "\n",
        "# set X (training data) and y (target variable)\n",
        "cols = data.shape[1]\n",
        "X = data.iloc[:,0:cols-1]\n",
        "y = data.iloc[:,cols-1:cols]\n",
        "\n",
        "# convert variabel x and y to numpy arrays and initalize the parameter array theta\n",
        "X = np.array(X.values)\n",
        "y = np.array(y.values)\n",
        "theta = np.zeros(3)"
      ]
    },
    {
      "cell_type": "markdown",
      "metadata": {
        "id": "Oeg5etBvttEA"
      },
      "source": [
        "Let's quickly check the shape of our arrays to make sure everything looks good.\n",
        "\n",
        "Mari periksa bentuk dari array untuk memastikan semuanya terlihat bagus."
      ]
    },
    {
      "cell_type": "code",
      "execution_count": 11,
      "metadata": {
        "id": "MiR4KE5BttEA",
        "outputId": "432eb71f-d94a-45ef-80ee-56a791a3a9b5",
        "colab": {
          "base_uri": "https://localhost:8080/"
        }
      },
      "outputs": [
        {
          "output_type": "execute_result",
          "data": {
            "text/plain": [
              "((100, 3), (3,), (100, 1))"
            ]
          },
          "metadata": {},
          "execution_count": 11
        }
      ],
      "source": [
        "X.shape, theta.shape, y.shape"
      ]
    },
    {
      "cell_type": "markdown",
      "metadata": {
        "id": "r20NxGYOttEC"
      },
      "source": [
        "Now let's compute the cost for our initial solution (0 values for theta).\n",
        "\n",
        "Sekarang mari kita hitung cost untuk solusi awal kita (nilai 0 untuk theta)."
      ]
    },
    {
      "cell_type": "code",
      "execution_count": 12,
      "metadata": {
        "id": "cxrcD4_-ttEC",
        "outputId": "578b6cdc-c4d4-49ea-e1d2-29de7128092d",
        "colab": {
          "base_uri": "https://localhost:8080/"
        }
      },
      "outputs": [
        {
          "output_type": "execute_result",
          "data": {
            "text/plain": [
              "0.6931471805599453"
            ]
          },
          "metadata": {},
          "execution_count": 12
        }
      ],
      "source": [
        "cost(theta, X, y)"
      ]
    },
    {
      "cell_type": "markdown",
      "metadata": {
        "id": "JW9OiogcttED"
      },
      "source": [
        "Looks good.  Next we need a function to compute the gradient (parameter updates) given our training data, labels, and some parameters theta.\n",
        "\n",
        "**Artinya**\n",
        "\n",
        "Selanjutnya kita memerlukan fungsi untuk menghitung gradien (pembaruan parameter) yang diberikan data pelatihan, label, dan beberapa parameter theta."
      ]
    },
    {
      "cell_type": "code",
      "execution_count": 13,
      "metadata": {
        "id": "FQwiGWFOttED"
      },
      "outputs": [],
      "source": [
        "# menghitung gradien\n",
        "def gradient(theta, X, y):\n",
        "    theta = np.matrix(theta)\n",
        "    X = np.matrix(X)\n",
        "    y = np.matrix(y)\n",
        "    \n",
        "    parameters = int(theta.ravel().shape[1])\n",
        "    grad = np.zeros(parameters)\n",
        "    \n",
        "    error = sigmoid(X * theta.T) - y\n",
        "    \n",
        "    for i in range(parameters):\n",
        "        term = np.multiply(error, X[:,i])\n",
        "        grad[i] = np.sum(term) / len(X)\n",
        "    \n",
        "    return grad"
      ]
    },
    {
      "cell_type": "markdown",
      "metadata": {
        "id": "e5sCguH1ttEE"
      },
      "source": [
        "Note that we don't actually perform gradient descent in this function - we just compute a single gradient step.  In the exercise, an Octave function called \"fminunc\" is used to optimize the parameters given functions to compute the cost and the gradients.  Since we're using Python, we can use SciPy's \"optimize\" namespace to do the same thing.\n",
        "\n",
        "**Artinya**\n",
        "\n",
        "- Perhatikan bahwa kami tidak benar-benar melakukan penurunan gradien dalam fungsi ini - kami hanya menghitung satu langkah gradien. \n",
        "- Dalam latihan, fungsi Oktaf yang disebut \"fminunc\" digunakan untuk mengoptimalkan parameter yang diberikan fungsi untuk menghitung cost dan gradien. Karena kita menggunakan Python, kita bisa menggunakan namespace \"optimasi\" SciPy untuk melakukan hal yang sama."
      ]
    },
    {
      "cell_type": "markdown",
      "metadata": {
        "id": "6WBcN7hJttEE"
      },
      "source": [
        "Let's look at a single call to the gradient method using our data and initial paramter values of 0.\n",
        "\n",
        "**Artinya**\n",
        "\n",
        "Mari kita lihat satu panggilan ke metode gradien menggunakan data Anda dan nilai parameter awal 0."
      ]
    },
    {
      "cell_type": "code",
      "execution_count": 14,
      "metadata": {
        "id": "AMkrCZXhttEE",
        "outputId": "546244b3-e156-42ad-ed20-9362c8b61ff3",
        "colab": {
          "base_uri": "https://localhost:8080/"
        }
      },
      "outputs": [
        {
          "output_type": "execute_result",
          "data": {
            "text/plain": [
              "array([ -0.1       , -12.00921659, -11.26284221])"
            ]
          },
          "metadata": {},
          "execution_count": 14
        }
      ],
      "source": [
        "gradient(theta, X, y)"
      ]
    },
    {
      "cell_type": "markdown",
      "metadata": {
        "id": "ist68XIcttEF"
      },
      "source": [
        "Now we can use SciPy's truncated newton (TNC) implementation to find the optimal parameters.\n",
        "\n",
        "Sekarang kita bisa menggunakan scipy's truncated newton (TNC) dimplementasikan untuk mencari parameter optimal"
      ]
    },
    {
      "cell_type": "code",
      "execution_count": 15,
      "metadata": {
        "id": "n-fH5DOnttEF",
        "outputId": "4880ec7b-7c18-40fa-944f-45e93adf277b",
        "colab": {
          "base_uri": "https://localhost:8080/"
        }
      },
      "outputs": [
        {
          "output_type": "execute_result",
          "data": {
            "text/plain": [
              "(array([-25.16131857,   0.20623159,   0.20147149]), 36, 0)"
            ]
          },
          "metadata": {},
          "execution_count": 15
        }
      ],
      "source": [
        "# import library scipy\n",
        "import scipy.optimize as opt\n",
        "\n",
        "result = opt.fmin_tnc(func=cost, x0=theta, fprime=gradient, args=(X, y))\n",
        "result"
      ]
    },
    {
      "cell_type": "markdown",
      "metadata": {
        "id": "fHmT1jH_ttEG"
      },
      "source": [
        "Let's see what the our cost looks like with this solution.\n",
        "(Mari kita lihat seperti apa cost kita dengan solusi ini.)"
      ]
    },
    {
      "cell_type": "code",
      "execution_count": 16,
      "metadata": {
        "id": "UfItsR60ttEH",
        "outputId": "c97f8ccc-d8ee-4602-fb9f-fc42b7cb4930",
        "colab": {
          "base_uri": "https://localhost:8080/"
        }
      },
      "outputs": [
        {
          "output_type": "execute_result",
          "data": {
            "text/plain": [
              "0.20349770158947483"
            ]
          },
          "metadata": {},
          "execution_count": 16
        }
      ],
      "source": [
        "cost(result[0], X, y)"
      ]
    },
    {
      "cell_type": "markdown",
      "metadata": {
        "id": "03CTAS34ttEI"
      },
      "source": [
        "Next we need to write a function that will output predictions for a dataset X using our learned parameters theta.  We can then use this function to score the training accuracy of our classifier.\n",
        "\n",
        "**Artinya**\n",
        "\n",
        "Selanjutnya kita perlu menulis sebuah fungsi yang akan menampilkan prediksi untuk dataset X menggunakan theta parameter yang kita pelajari. Kami kemudian dapat menggunakan fungsi ini untuk menilai akurasi pelatihan pengklasifikasi kami."
      ]
    },
    {
      "cell_type": "code",
      "execution_count": 17,
      "metadata": {
        "id": "29g5DMmyttEI"
      },
      "outputs": [],
      "source": [
        "#  menampilkan prediksi untuk dataset X menggunakan theta \n",
        "def predict(theta, X):\n",
        "    probability = sigmoid(X * theta.T)\n",
        "    return [1 if x >= 0.5 else 0 for x in probability]"
      ]
    },
    {
      "cell_type": "code",
      "execution_count": 18,
      "metadata": {
        "id": "oZEv9DIjttEJ",
        "outputId": "a573d911-fecb-4f0b-82dc-34879c4ffbf4",
        "colab": {
          "base_uri": "https://localhost:8080/"
        }
      },
      "outputs": [
        {
          "output_type": "stream",
          "name": "stdout",
          "text": [
            "accuracy = 89%\n"
          ]
        }
      ],
      "source": [
        "# fungsi untuk menilai akurasi pelatihan\n",
        "theta_min = np.matrix(result[0])\n",
        "predictions = predict(theta_min, X)\n",
        "correct = [1 if ((a == 1 and b == 1) or (a == 0 and b == 0)) else 0 for (a, b) in zip(predictions, y)]\n",
        "accuracy = (sum(map(int, correct)) % len(correct))\n",
        "print('accuracy = {0}%'.format(accuracy))"
      ]
    },
    {
      "cell_type": "markdown",
      "metadata": {
        "id": "bdHswQJattEJ"
      },
      "source": [
        "Our logistic regression classifer correctly predicted if a student was admitted or not 89% of the time.  Not bad!  Keep in mind that this is training set accuracy though.  We didn't keep a hold-out set or use cross-validation to get a true approximation of the accuracy so this number is likely higher than its true perfomance (this topic is covered in a later exercise).\n",
        "\n",
        "\n",
        "Pengklasifikasi regresi logistik kami memprediksi dengan benar apakah seorang siswa diterima atau tidak sebesar 89% dari waktu. Tidak buruk! Perlu diingat bahwa ini adalah akurasi set pelatihan. Kami tidak mempertahankan set penahan atau menggunakan validasi silang untuk mendapatkan perkiraan akurasi yang sebenarnya sehingga angka ini kemungkinan lebih tinggi dari kinerja sebenarnya (topik ini dibahas dalam latihan selanjutnya)."
      ]
    },
    {
      "cell_type": "markdown",
      "source": [
        "# **Kesimpulan**\n",
        "\n",
        "Dari praktikum ini kita membuat model regresi logistik untuk memprediksi apakah seorang siswa diterima di universitas dan dalam menggunakan metode Logistic Regression hal yang harus dilakukan adalah:\n",
        "1. menyipakan data yang akan diolah\n",
        "2. mengimport library yang dibutuhkan\n",
        "3. mengimport data \n",
        "4. melakukan pembacaan data dan penampilan data\n",
        "5. melakukan ploting data guna mengetahui karakteristik data, gunakan kode warna untuk memvisualisasikan jika positif (diterima) dan negatif (tidak diterima).\n",
        "6. Setelah data diploting kita sudah tau ada batas daerah persebaran data yang jelas antara kedua kelas dan hal yang perlu dilakukan sekarang adalah kita perlu mengimplementasikan regresi logistik sehingga kita dapat melatih model untuk memprediksi hasilnya.\n",
        "7. Langkah pertama kita perlu membuat fungsi sigmoid. Kode untuk ini cukup sederhana.\n",
        "8. lakukan pemeriksaan untuk memastikan fungsinya berfungsi.\n",
        "9. Tulislah fungsi cost untuk mengevaluasi solusi. \n",
        "10. Setelah evaluasi fungsi cost kita perlu melakukan beberapa pengaturan, serupa dengan yang kita lakukan pada latihan 1 untuk regresi linier yaitu:\n",
        "  - add a ones column - this makes the matrix multiplication work out easier\n",
        "  - set X (training data) and y (target variable)\n",
        "  - convert variabel x and y to numpy arrays and initalize the parameter array theta\n",
        "11. Mari periksa bentuk dari array untuk memastikan semuanya terlihat bagus menggunakan sintaks X.shape, theta.shape, y.shape.\n",
        "12. Sekarang mari kita hitung cost untuk solusi awal kita (nilai 0 untuk theta).\n",
        "13. Selanjutnya kita memerlukan fungsi untuk menghitung gradien (pembaruan parameter) yang diberikan data pelatihan, label, dan beberapa parameter theta.\n",
        "14. Mari kita lihat satu panggilan ke metode gradien menggunakan data Anda dan nilai parameter awal 0 menggunakan sintaks gradient(theta, X, y)\n",
        "15. Sekarang kita bisa menggunakan scipy's truncated newton (TNC) dimplementasikan untuk mencari parameter optimal.\n",
        "16. lihat seperti apa cost kita dengan solusi ini.\n",
        "17. Selanjutnya kita perlu menulis sebuah fungsi yang akan menampilkan prediksi untuk dataset X menggunakan theta parameter yang kita pelajari. Kami kemudian dapat menggunakan fungsi ini untuk menilai akurasi pelatihan pengklasifikasi kami.\n",
        "18. lakukan pembacaan hasil."
      ],
      "metadata": {
        "id": "TNMxoiO4086p"
      }
    },
    {
      "cell_type": "markdown",
      "metadata": {
        "id": "135xAJEMttEK"
      },
      "source": [
        "## Regularized logistic regression"
      ]
    },
    {
      "cell_type": "markdown",
      "metadata": {
        "id": "Ec4stZmottEK"
      },
      "source": [
        "In the second part of this exercise, we'll improve our logistic regression algorithm from part one by adding a regularization term.  If you're not familiar with regularization, or would like some background on the equations used in this section, refer to \"ex2.pdf\" in the \"exercises\" folder.  In a nutshell, regularization is a term in the cost function that causes the algorithm to prefer \"simpler\" models (in this case, models will smaller coefficients).  The theory is that this helps to minimize overfitting and improve the model's ability to generalize.  With that, let's get started."
      ]
    },
    {
      "cell_type": "markdown",
      "metadata": {
        "id": "1EWsjTWMttEK"
      },
      "source": [
        "Suppose you are the product manager of the factory and you have the test results for some microchips on two different tests.  From these two tests, you would like to determine whether the microchips should be accepted or rejected.  To help you make the decision, you have a dataset of test results on past microchips, from which you can build a logistic regression model."
      ]
    },
    {
      "cell_type": "markdown",
      "metadata": {
        "id": "t5NUmf2_ttEL"
      },
      "source": [
        "Similar to part 1, let's start by visualizing the data."
      ]
    },
    {
      "cell_type": "code",
      "execution_count": null,
      "metadata": {
        "id": "rJmy-LryttEL"
      },
      "outputs": [],
      "source": [
        "from google.colab import files\n",
        "uploaded = files.upload()"
      ]
    },
    {
      "cell_type": "code",
      "source": [
        "import io\n",
        "data2 = pd.read_csv(io.BytesIO(uploaded['ex2data2.txt']))\n",
        "data2.head()"
      ],
      "metadata": {
        "id": "Zbg3nUB83YQ2"
      },
      "execution_count": null,
      "outputs": []
    },
    {
      "cell_type": "code",
      "execution_count": null,
      "metadata": {
        "id": "tMqPZhXkttEL"
      },
      "outputs": [],
      "source": [
        "positive = data2[data2['Accepted'].isin([1])]\n",
        "negative = data2[data2['Accepted'].isin([0])]\n",
        "\n",
        "fig, ax = plt.subplots(figsize=(12,8))\n",
        "ax.scatter(positive['Test 1'], positive['Test 2'], s=50, c='b', marker='o', label='Accepted')\n",
        "ax.scatter(negative['Test 1'], negative['Test 2'], s=50, c='r', marker='x', label='Rejected')\n",
        "ax.legend()\n",
        "ax.set_xlabel('Test 1 Score')\n",
        "ax.set_ylabel('Test 2 Score')"
      ]
    },
    {
      "cell_type": "markdown",
      "metadata": {
        "id": "SQkeI1zQttEM"
      },
      "source": [
        "This data looks a bit more complicated than the previous example.  In particular, you'll notice that there is no linear decision boundary that will perform well on this data.  One way to deal with this using a linear technique like logistic regression is to construct features that are derived from polynomials of the original features.  Let's start by creating a bunch of polynomial features."
      ]
    },
    {
      "cell_type": "code",
      "execution_count": null,
      "metadata": {
        "id": "iilkyUIQttEM"
      },
      "outputs": [],
      "source": [
        "degree = 5\n",
        "x1 = data2['Test 1']\n",
        "x2 = data2['Test 2']\n",
        "\n",
        "data2.insert(3, 'Ones', 1)\n",
        "\n",
        "for i in range(1, degree):\n",
        "    for j in range(0, i):\n",
        "        data2['F' + str(i) + str(j)] = np.power(x1, i-j) * np.power(x2, j)\n",
        "\n",
        "data2.drop('Test 1', axis=1, inplace=True)\n",
        "data2.drop('Test 2', axis=1, inplace=True)\n",
        "\n",
        "data2.head()"
      ]
    },
    {
      "cell_type": "markdown",
      "metadata": {
        "id": "a3dRxV4lttEN"
      },
      "source": [
        "Now we need to modify the cost and gradient functions from part 1 to include the regularization term.  First the cost function:"
      ]
    },
    {
      "cell_type": "code",
      "source": [
        "def sigmoid(x):\n",
        "  return 1/(1 + np.exp(-x))"
      ],
      "metadata": {
        "id": "aubi_8Qx54yk"
      },
      "execution_count": null,
      "outputs": []
    },
    {
      "cell_type": "code",
      "execution_count": null,
      "metadata": {
        "id": "04KJ7aWottEN"
      },
      "outputs": [],
      "source": [
        "def costReg(theta, X, y, learningRate):\n",
        "    theta = np.matrix(theta)\n",
        "    X = np.matrix(X)\n",
        "    y = np.matrix(y)\n",
        "    first = np.multiply(-y, np.log(sigmoid(X * theta.T)))\n",
        "    second = np.multiply((1 - y), np.log(1 - sigmoid(X * theta.T)))\n",
        "    reg = (learningRate / 2 * len(X)) * np.sum(np.power(theta[:,1:theta.shape[1]], 2))\n",
        "    return np.sum(first - second) / (len(X)) + reg"
      ]
    },
    {
      "cell_type": "markdown",
      "metadata": {
        "id": "LI_Lsp5VttEO"
      },
      "source": [
        "Notice the \"reg\" term in the equation.  Also note the addition of a \"learning rate\" parameter.  This is a hyperparameter that controls the effectiveness of the regularization term.  Now we need to add regularization to the gradient function:"
      ]
    },
    {
      "cell_type": "code",
      "execution_count": null,
      "metadata": {
        "id": "5wJq4GJBttEO"
      },
      "outputs": [],
      "source": [
        "def gradientReg(theta, X, y, learningRate):\n",
        "    theta = np.matrix(theta)\n",
        "    X = np.matrix(X)\n",
        "    y = np.matrix(y)\n",
        "    \n",
        "    parameters = int(theta.ravel().shape[1])\n",
        "    grad = np.zeros(parameters)\n",
        "    \n",
        "    error = sigmoid(X * theta.T) - y\n",
        "    \n",
        "    for i in range(parameters):\n",
        "        term = np.multiply(error, X[:,i])\n",
        "        \n",
        "        if (i == 0):\n",
        "            grad[i] = np.sum(term) / len(X)\n",
        "        else:\n",
        "            grad[i] = (np.sum(term) / len(X)) + ((learningRate / len(X)) * theta[:,i])\n",
        "    \n",
        "    return grad"
      ]
    },
    {
      "cell_type": "markdown",
      "metadata": {
        "id": "zCnflqu8ttEO"
      },
      "source": [
        "Initialize variables like we did in part 1."
      ]
    },
    {
      "cell_type": "code",
      "execution_count": null,
      "metadata": {
        "id": "nd33gghrttEP"
      },
      "outputs": [],
      "source": [
        "# set X and y (remember from above that we moved the label to column 0)\n",
        "cols = data2.shape[1]\n",
        "X2 = data2.iloc[:,1:cols]\n",
        "y2 = data2.iloc[:,0:1]\n",
        "\n",
        "# convert to numpy arrays and initalize the parameter array theta\n",
        "X2 = np.array(X2.values)\n",
        "y2 = np.array(y2.values)\n",
        "theta2 = np.zeros(11)"
      ]
    },
    {
      "cell_type": "markdown",
      "metadata": {
        "id": "VIic4iqtttEP"
      },
      "source": [
        "Let's initialize our learning rate to a sensible value.  We can play with this later if necessary (i.e. if the penalization is too strong or not strong enough)."
      ]
    },
    {
      "cell_type": "code",
      "execution_count": null,
      "metadata": {
        "id": "PDWczWKzttEP"
      },
      "outputs": [],
      "source": [
        "learningRate = 1"
      ]
    },
    {
      "cell_type": "markdown",
      "metadata": {
        "id": "2xr1oCLzttEQ"
      },
      "source": [
        "Now let's try calling our new regularized functions with the default (0) values for theta to make sure the calculations are working."
      ]
    },
    {
      "cell_type": "code",
      "execution_count": null,
      "metadata": {
        "id": "JTOb8wl0ttEQ"
      },
      "outputs": [],
      "source": [
        "costReg(theta2, X2, y2, learningRate)"
      ]
    },
    {
      "cell_type": "code",
      "execution_count": null,
      "metadata": {
        "id": "7kiCKuYhttEQ"
      },
      "outputs": [],
      "source": [
        "gradientReg(theta2, X2, y2, learningRate)"
      ]
    },
    {
      "cell_type": "markdown",
      "metadata": {
        "id": "1GC8qZpUttEQ"
      },
      "source": [
        "Now we can use the same optimization function from part 1 to compute the optimal solution."
      ]
    },
    {
      "cell_type": "code",
      "execution_count": null,
      "metadata": {
        "id": "_1EGUH2sttER"
      },
      "outputs": [],
      "source": [
        "result2 = scipy.optimize.fmin_tnc(func=costReg, x0=theta2, fprime=gradientReg, args=(X2, y2, learningRate))\n",
        "result2"
      ]
    },
    {
      "cell_type": "markdown",
      "metadata": {
        "id": "H-_d1bUDttER"
      },
      "source": [
        "Finally, we can use the prediction function from part 1 to see how accurate our solution is on the training data."
      ]
    },
    {
      "cell_type": "code",
      "execution_count": null,
      "metadata": {
        "id": "MxNqtagqttER"
      },
      "outputs": [],
      "source": [
        "theta_min = np.matrix(result2[0])\n",
        "predictions = predict(theta_min, X2)\n",
        "correct = [1 if ((a == 1 and b == 1) or (a == 0 and b == 0)) else 0 for (a, b) in zip(predictions, y2)]\n",
        "accuracy = (sum(map(int, correct)) % len(correct))\n",
        "print('accuracy = {0}%'.format(accuracy))"
      ]
    },
    {
      "cell_type": "markdown",
      "metadata": {
        "id": "ufqBFPoqttES"
      },
      "source": [
        "Although we implemented these algorithms from scratch, it's worth noting that we could also use a high-level python library like scikit-learn to solve this problem."
      ]
    },
    {
      "cell_type": "code",
      "execution_count": null,
      "metadata": {
        "id": "fYL-AUjJttES"
      },
      "outputs": [],
      "source": [
        "from sklearn import linear_model\n",
        "model = linear_model.LogisticRegression(penalty='l2', C=1.0)\n",
        "model.fit(X2, y2.ravel())"
      ]
    },
    {
      "cell_type": "code",
      "execution_count": null,
      "metadata": {
        "id": "8WAplqCsttES"
      },
      "outputs": [],
      "source": [
        "model.score(X2, y2)"
      ]
    },
    {
      "cell_type": "markdown",
      "metadata": {
        "id": "FYMowpkNttET"
      },
      "source": [
        "The accuracy is much lower than what we just computed, but keep in mind this result is using the default parameters provided by scikit-learn.  We'd likely need to do some parameter tuning to get the same accuracy that we obtained with our earlier result."
      ]
    },
    {
      "cell_type": "markdown",
      "metadata": {
        "id": "AzkdLIoRttET"
      },
      "source": [
        "That's all for Exercise 2!  Stay tuned for the next exercise where we'll tackle multi-class image classification."
      ]
    }
  ],
  "metadata": {
    "colab": {
      "provenance": [],
      "collapsed_sections": [
        "135xAJEMttEK"
      ]
    },
    "kernelspec": {
      "display_name": "Python 2",
      "language": "python",
      "name": "python2"
    },
    "language_info": {
      "codemirror_mode": {
        "name": "ipython",
        "version": 2
      },
      "file_extension": ".py",
      "mimetype": "text/x-python",
      "name": "python",
      "nbconvert_exporter": "python",
      "pygments_lexer": "ipython2",
      "version": "2.7.9"
    }
  },
  "nbformat": 4,
  "nbformat_minor": 0
}