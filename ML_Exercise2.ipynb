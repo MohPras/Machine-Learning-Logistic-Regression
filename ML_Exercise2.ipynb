{
  "cells": [
    {
      "cell_type": "markdown",
      "source": [
        "# Nama : Mohammad Nurdin Prastya Hermansah\n",
        "\n",
        "# NIM: 20507334047\n",
        "\n",
        "# Prodi : D4 Teknik Elektronika"
      ],
      "metadata": {
        "id": "LczZgVRhHQRS"
      }
    },
    {
      "cell_type": "markdown",
      "metadata": {
        "id": "wQeDDgjfttDk"
      },
      "source": [
        "# **Machine Learning Exercise 2 - Logistic Regression**"
      ]
    },
    {
      "cell_type": "markdown",
      "metadata": {
        "id": "6-b-IujxttDr"
      },
      "source": [
        "Dalam latihan ini, kita akan mengimplementasikan regresi logistik dan menerapkannya pada tugas pengklasifikasian. Kita juga akan meningkatkan keandalan implementasi kita dengan menambahkan regularisasi pada algoritma pelatihan dan mengujinya pada masalah yang lebih sulit. \n",
        "\n",
        "Regresi logistik adalah teknik pemodelan yang digunakan untuk memprediksi probabilitas terjadinya suatu kejadian dengan menggunakan data masa lalu. Algoritma ini sering digunakan dalam pengklasifikasian (memprediksi apakah sesuatu termasuk dalam kelompok yang satu atau kelompok yang lain) dan sangat berguna dalam berbagai aplikasi, seperti pemasaran, keuangan, dan kedokteran. \n",
        "\n",
        "Regularisasi adalah teknik yang digunakan untuk menghindari overfitting (ketika model terlalu sesuai dengan data pelatihan, sehingga tidak generalisasi dengan baik pada data baru) dengan menambahkan penalti pada model yang terlalu kompleks"
      ]
    },
    {
      "cell_type": "markdown",
      "source": [
        "Dalam latihan ini kita akan menerapkan logistic regression untuk menerapkannya pada tugas pengklasifikasian. Kami juga akan meningkatkan ketahanan penerapan kami dengan menambahkan regularisasi ke algoritme pelatihan. dan mengujinya pada soal yang lebih sulit."
      ],
      "metadata": {
        "id": "Smo-SdYXfvgv"
      }
    },
    {
      "cell_type": "markdown",
      "metadata": {
        "id": "x7qLyCXSttDs"
      },
      "source": [
        "# **Logistic regression**"
      ]
    },
    {
      "cell_type": "markdown",
      "metadata": {
        "id": "7pSpENoYttDv"
      },
      "source": [
        "Pada bagian pertama dari latihan ini, kita akan membuat model regresi logistik untuk memprediksi apakah siswa akan diterima di universitas. Misalkan Anda adalah administrator departemen universitas dan ingin menentukan kemungkinan penerimaan setiap pelamar berdasarkan hasil ujian mereka. Anda memiliki data historis dari pelamar sebelumnya yang dapat Anda gunakan sebagai set pelatihan untuk regresi logistik. Untuk setiap contoh pelatihan, Anda memiliki skor pelamar pada dua ujian dan keputusan penerimaan. Untuk menyelesaikan ini, kita akan membuat model pengklasifikasian yang mengestimasi probabilitas penerimaan berdasarkan skor ujian. Model ini akan memprediksi probabilitas siswa diterima di universitas berdasarkan skor ujian yang telah mereka dapatkan."
      ]
    },
    {
      "cell_type": "markdown",
      "source": [
        "**Tahap 1**"
      ],
      "metadata": {
        "id": "g4h_g2mayosF"
      }
    },
    {
      "cell_type": "code",
      "execution_count": 1,
      "metadata": {
        "id": "6FFa9IZDttDx"
      },
      "outputs": [],
      "source": [
        "# import library\n",
        "import numpy as np\n",
        "import pandas as pd\n",
        "import matplotlib.pyplot as plt\n",
        "from scipy import optimize"
      ]
    },
    {
      "cell_type": "code",
      "execution_count": 2,
      "metadata": {
        "id": "0FRMKg-HT193",
        "outputId": "6fcc2383-dc35-449b-8705-e742cf8d7202",
        "colab": {
          "base_uri": "https://localhost:8080/",
          "height": 74
        }
      },
      "outputs": [
        {
          "output_type": "display_data",
          "data": {
            "text/plain": [
              "<IPython.core.display.HTML object>"
            ],
            "text/html": [
              "\n",
              "     <input type=\"file\" id=\"files-326a231b-da10-42ed-a35e-170cce405006\" name=\"files[]\" multiple disabled\n",
              "        style=\"border:none\" />\n",
              "     <output id=\"result-326a231b-da10-42ed-a35e-170cce405006\">\n",
              "      Upload widget is only available when the cell has been executed in the\n",
              "      current browser session. Please rerun this cell to enable.\n",
              "      </output>\n",
              "      <script>// Copyright 2017 Google LLC\n",
              "//\n",
              "// Licensed under the Apache License, Version 2.0 (the \"License\");\n",
              "// you may not use this file except in compliance with the License.\n",
              "// You may obtain a copy of the License at\n",
              "//\n",
              "//      http://www.apache.org/licenses/LICENSE-2.0\n",
              "//\n",
              "// Unless required by applicable law or agreed to in writing, software\n",
              "// distributed under the License is distributed on an \"AS IS\" BASIS,\n",
              "// WITHOUT WARRANTIES OR CONDITIONS OF ANY KIND, either express or implied.\n",
              "// See the License for the specific language governing permissions and\n",
              "// limitations under the License.\n",
              "\n",
              "/**\n",
              " * @fileoverview Helpers for google.colab Python module.\n",
              " */\n",
              "(function(scope) {\n",
              "function span(text, styleAttributes = {}) {\n",
              "  const element = document.createElement('span');\n",
              "  element.textContent = text;\n",
              "  for (const key of Object.keys(styleAttributes)) {\n",
              "    element.style[key] = styleAttributes[key];\n",
              "  }\n",
              "  return element;\n",
              "}\n",
              "\n",
              "// Max number of bytes which will be uploaded at a time.\n",
              "const MAX_PAYLOAD_SIZE = 100 * 1024;\n",
              "\n",
              "function _uploadFiles(inputId, outputId) {\n",
              "  const steps = uploadFilesStep(inputId, outputId);\n",
              "  const outputElement = document.getElementById(outputId);\n",
              "  // Cache steps on the outputElement to make it available for the next call\n",
              "  // to uploadFilesContinue from Python.\n",
              "  outputElement.steps = steps;\n",
              "\n",
              "  return _uploadFilesContinue(outputId);\n",
              "}\n",
              "\n",
              "// This is roughly an async generator (not supported in the browser yet),\n",
              "// where there are multiple asynchronous steps and the Python side is going\n",
              "// to poll for completion of each step.\n",
              "// This uses a Promise to block the python side on completion of each step,\n",
              "// then passes the result of the previous step as the input to the next step.\n",
              "function _uploadFilesContinue(outputId) {\n",
              "  const outputElement = document.getElementById(outputId);\n",
              "  const steps = outputElement.steps;\n",
              "\n",
              "  const next = steps.next(outputElement.lastPromiseValue);\n",
              "  return Promise.resolve(next.value.promise).then((value) => {\n",
              "    // Cache the last promise value to make it available to the next\n",
              "    // step of the generator.\n",
              "    outputElement.lastPromiseValue = value;\n",
              "    return next.value.response;\n",
              "  });\n",
              "}\n",
              "\n",
              "/**\n",
              " * Generator function which is called between each async step of the upload\n",
              " * process.\n",
              " * @param {string} inputId Element ID of the input file picker element.\n",
              " * @param {string} outputId Element ID of the output display.\n",
              " * @return {!Iterable<!Object>} Iterable of next steps.\n",
              " */\n",
              "function* uploadFilesStep(inputId, outputId) {\n",
              "  const inputElement = document.getElementById(inputId);\n",
              "  inputElement.disabled = false;\n",
              "\n",
              "  const outputElement = document.getElementById(outputId);\n",
              "  outputElement.innerHTML = '';\n",
              "\n",
              "  const pickedPromise = new Promise((resolve) => {\n",
              "    inputElement.addEventListener('change', (e) => {\n",
              "      resolve(e.target.files);\n",
              "    });\n",
              "  });\n",
              "\n",
              "  const cancel = document.createElement('button');\n",
              "  inputElement.parentElement.appendChild(cancel);\n",
              "  cancel.textContent = 'Cancel upload';\n",
              "  const cancelPromise = new Promise((resolve) => {\n",
              "    cancel.onclick = () => {\n",
              "      resolve(null);\n",
              "    };\n",
              "  });\n",
              "\n",
              "  // Wait for the user to pick the files.\n",
              "  const files = yield {\n",
              "    promise: Promise.race([pickedPromise, cancelPromise]),\n",
              "    response: {\n",
              "      action: 'starting',\n",
              "    }\n",
              "  };\n",
              "\n",
              "  cancel.remove();\n",
              "\n",
              "  // Disable the input element since further picks are not allowed.\n",
              "  inputElement.disabled = true;\n",
              "\n",
              "  if (!files) {\n",
              "    return {\n",
              "      response: {\n",
              "        action: 'complete',\n",
              "      }\n",
              "    };\n",
              "  }\n",
              "\n",
              "  for (const file of files) {\n",
              "    const li = document.createElement('li');\n",
              "    li.append(span(file.name, {fontWeight: 'bold'}));\n",
              "    li.append(span(\n",
              "        `(${file.type || 'n/a'}) - ${file.size} bytes, ` +\n",
              "        `last modified: ${\n",
              "            file.lastModifiedDate ? file.lastModifiedDate.toLocaleDateString() :\n",
              "                                    'n/a'} - `));\n",
              "    const percent = span('0% done');\n",
              "    li.appendChild(percent);\n",
              "\n",
              "    outputElement.appendChild(li);\n",
              "\n",
              "    const fileDataPromise = new Promise((resolve) => {\n",
              "      const reader = new FileReader();\n",
              "      reader.onload = (e) => {\n",
              "        resolve(e.target.result);\n",
              "      };\n",
              "      reader.readAsArrayBuffer(file);\n",
              "    });\n",
              "    // Wait for the data to be ready.\n",
              "    let fileData = yield {\n",
              "      promise: fileDataPromise,\n",
              "      response: {\n",
              "        action: 'continue',\n",
              "      }\n",
              "    };\n",
              "\n",
              "    // Use a chunked sending to avoid message size limits. See b/62115660.\n",
              "    let position = 0;\n",
              "    do {\n",
              "      const length = Math.min(fileData.byteLength - position, MAX_PAYLOAD_SIZE);\n",
              "      const chunk = new Uint8Array(fileData, position, length);\n",
              "      position += length;\n",
              "\n",
              "      const base64 = btoa(String.fromCharCode.apply(null, chunk));\n",
              "      yield {\n",
              "        response: {\n",
              "          action: 'append',\n",
              "          file: file.name,\n",
              "          data: base64,\n",
              "        },\n",
              "      };\n",
              "\n",
              "      let percentDone = fileData.byteLength === 0 ?\n",
              "          100 :\n",
              "          Math.round((position / fileData.byteLength) * 100);\n",
              "      percent.textContent = `${percentDone}% done`;\n",
              "\n",
              "    } while (position < fileData.byteLength);\n",
              "  }\n",
              "\n",
              "  // All done.\n",
              "  yield {\n",
              "    response: {\n",
              "      action: 'complete',\n",
              "    }\n",
              "  };\n",
              "}\n",
              "\n",
              "scope.google = scope.google || {};\n",
              "scope.google.colab = scope.google.colab || {};\n",
              "scope.google.colab._files = {\n",
              "  _uploadFiles,\n",
              "  _uploadFilesContinue,\n",
              "};\n",
              "})(self);\n",
              "</script> "
            ]
          },
          "metadata": {}
        },
        {
          "output_type": "stream",
          "name": "stdout",
          "text": [
            "Saving ex2data1.txt to ex2data1.txt\n"
          ]
        }
      ],
      "source": [
        "from google.colab import files\n",
        "uploaded = files.upload()"
      ]
    },
    {
      "cell_type": "code",
      "execution_count": 3,
      "metadata": {
        "id": "-unkWudgUbRd",
        "outputId": "a4df7d75-4f5d-469c-e300-bc0031667455",
        "colab": {
          "base_uri": "https://localhost:8080/",
          "height": 426
        }
      },
      "outputs": [
        {
          "output_type": "execute_result",
          "data": {
            "text/plain": [
              "       Exam 1     Exam 2  Admitted\n",
              "0   34.623660  78.024693         0\n",
              "1   30.286711  43.894998         0\n",
              "2   35.847409  72.902198         0\n",
              "3   60.182599  86.308552         1\n",
              "4   79.032736  75.344376         1\n",
              "5   45.083277  56.316372         0\n",
              "6   61.106665  96.511426         1\n",
              "7   75.024746  46.554014         1\n",
              "8   76.098787  87.420570         1\n",
              "9   84.432820  43.533393         1\n",
              "10  95.861555  38.225278         0\n",
              "11  75.013658  30.603263         0"
            ],
            "text/html": [
              "\n",
              "  <div id=\"df-a6ca69a7-63ad-4b49-a0c7-0cb3fafc35d4\">\n",
              "    <div class=\"colab-df-container\">\n",
              "      <div>\n",
              "<style scoped>\n",
              "    .dataframe tbody tr th:only-of-type {\n",
              "        vertical-align: middle;\n",
              "    }\n",
              "\n",
              "    .dataframe tbody tr th {\n",
              "        vertical-align: top;\n",
              "    }\n",
              "\n",
              "    .dataframe thead th {\n",
              "        text-align: right;\n",
              "    }\n",
              "</style>\n",
              "<table border=\"1\" class=\"dataframe\">\n",
              "  <thead>\n",
              "    <tr style=\"text-align: right;\">\n",
              "      <th></th>\n",
              "      <th>Exam 1</th>\n",
              "      <th>Exam 2</th>\n",
              "      <th>Admitted</th>\n",
              "    </tr>\n",
              "  </thead>\n",
              "  <tbody>\n",
              "    <tr>\n",
              "      <th>0</th>\n",
              "      <td>34.623660</td>\n",
              "      <td>78.024693</td>\n",
              "      <td>0</td>\n",
              "    </tr>\n",
              "    <tr>\n",
              "      <th>1</th>\n",
              "      <td>30.286711</td>\n",
              "      <td>43.894998</td>\n",
              "      <td>0</td>\n",
              "    </tr>\n",
              "    <tr>\n",
              "      <th>2</th>\n",
              "      <td>35.847409</td>\n",
              "      <td>72.902198</td>\n",
              "      <td>0</td>\n",
              "    </tr>\n",
              "    <tr>\n",
              "      <th>3</th>\n",
              "      <td>60.182599</td>\n",
              "      <td>86.308552</td>\n",
              "      <td>1</td>\n",
              "    </tr>\n",
              "    <tr>\n",
              "      <th>4</th>\n",
              "      <td>79.032736</td>\n",
              "      <td>75.344376</td>\n",
              "      <td>1</td>\n",
              "    </tr>\n",
              "    <tr>\n",
              "      <th>5</th>\n",
              "      <td>45.083277</td>\n",
              "      <td>56.316372</td>\n",
              "      <td>0</td>\n",
              "    </tr>\n",
              "    <tr>\n",
              "      <th>6</th>\n",
              "      <td>61.106665</td>\n",
              "      <td>96.511426</td>\n",
              "      <td>1</td>\n",
              "    </tr>\n",
              "    <tr>\n",
              "      <th>7</th>\n",
              "      <td>75.024746</td>\n",
              "      <td>46.554014</td>\n",
              "      <td>1</td>\n",
              "    </tr>\n",
              "    <tr>\n",
              "      <th>8</th>\n",
              "      <td>76.098787</td>\n",
              "      <td>87.420570</td>\n",
              "      <td>1</td>\n",
              "    </tr>\n",
              "    <tr>\n",
              "      <th>9</th>\n",
              "      <td>84.432820</td>\n",
              "      <td>43.533393</td>\n",
              "      <td>1</td>\n",
              "    </tr>\n",
              "    <tr>\n",
              "      <th>10</th>\n",
              "      <td>95.861555</td>\n",
              "      <td>38.225278</td>\n",
              "      <td>0</td>\n",
              "    </tr>\n",
              "    <tr>\n",
              "      <th>11</th>\n",
              "      <td>75.013658</td>\n",
              "      <td>30.603263</td>\n",
              "      <td>0</td>\n",
              "    </tr>\n",
              "  </tbody>\n",
              "</table>\n",
              "</div>\n",
              "      <button class=\"colab-df-convert\" onclick=\"convertToInteractive('df-a6ca69a7-63ad-4b49-a0c7-0cb3fafc35d4')\"\n",
              "              title=\"Convert this dataframe to an interactive table.\"\n",
              "              style=\"display:none;\">\n",
              "        \n",
              "  <svg xmlns=\"http://www.w3.org/2000/svg\" height=\"24px\"viewBox=\"0 0 24 24\"\n",
              "       width=\"24px\">\n",
              "    <path d=\"M0 0h24v24H0V0z\" fill=\"none\"/>\n",
              "    <path d=\"M18.56 5.44l.94 2.06.94-2.06 2.06-.94-2.06-.94-.94-2.06-.94 2.06-2.06.94zm-11 1L8.5 8.5l.94-2.06 2.06-.94-2.06-.94L8.5 2.5l-.94 2.06-2.06.94zm10 10l.94 2.06.94-2.06 2.06-.94-2.06-.94-.94-2.06-.94 2.06-2.06.94z\"/><path d=\"M17.41 7.96l-1.37-1.37c-.4-.4-.92-.59-1.43-.59-.52 0-1.04.2-1.43.59L10.3 9.45l-7.72 7.72c-.78.78-.78 2.05 0 2.83L4 21.41c.39.39.9.59 1.41.59.51 0 1.02-.2 1.41-.59l7.78-7.78 2.81-2.81c.8-.78.8-2.07 0-2.86zM5.41 20L4 18.59l7.72-7.72 1.47 1.35L5.41 20z\"/>\n",
              "  </svg>\n",
              "      </button>\n",
              "      \n",
              "  <style>\n",
              "    .colab-df-container {\n",
              "      display:flex;\n",
              "      flex-wrap:wrap;\n",
              "      gap: 12px;\n",
              "    }\n",
              "\n",
              "    .colab-df-convert {\n",
              "      background-color: #E8F0FE;\n",
              "      border: none;\n",
              "      border-radius: 50%;\n",
              "      cursor: pointer;\n",
              "      display: none;\n",
              "      fill: #1967D2;\n",
              "      height: 32px;\n",
              "      padding: 0 0 0 0;\n",
              "      width: 32px;\n",
              "    }\n",
              "\n",
              "    .colab-df-convert:hover {\n",
              "      background-color: #E2EBFA;\n",
              "      box-shadow: 0px 1px 2px rgba(60, 64, 67, 0.3), 0px 1px 3px 1px rgba(60, 64, 67, 0.15);\n",
              "      fill: #174EA6;\n",
              "    }\n",
              "\n",
              "    [theme=dark] .colab-df-convert {\n",
              "      background-color: #3B4455;\n",
              "      fill: #D2E3FC;\n",
              "    }\n",
              "\n",
              "    [theme=dark] .colab-df-convert:hover {\n",
              "      background-color: #434B5C;\n",
              "      box-shadow: 0px 1px 3px 1px rgba(0, 0, 0, 0.15);\n",
              "      filter: drop-shadow(0px 1px 2px rgba(0, 0, 0, 0.3));\n",
              "      fill: #FFFFFF;\n",
              "    }\n",
              "  </style>\n",
              "\n",
              "      <script>\n",
              "        const buttonEl =\n",
              "          document.querySelector('#df-a6ca69a7-63ad-4b49-a0c7-0cb3fafc35d4 button.colab-df-convert');\n",
              "        buttonEl.style.display =\n",
              "          google.colab.kernel.accessAllowed ? 'block' : 'none';\n",
              "\n",
              "        async function convertToInteractive(key) {\n",
              "          const element = document.querySelector('#df-a6ca69a7-63ad-4b49-a0c7-0cb3fafc35d4');\n",
              "          const dataTable =\n",
              "            await google.colab.kernel.invokeFunction('convertToInteractive',\n",
              "                                                     [key], {});\n",
              "          if (!dataTable) return;\n",
              "\n",
              "          const docLinkHtml = 'Like what you see? Visit the ' +\n",
              "            '<a target=\"_blank\" href=https://colab.research.google.com/notebooks/data_table.ipynb>data table notebook</a>'\n",
              "            + ' to learn more about interactive tables.';\n",
              "          element.innerHTML = '';\n",
              "          dataTable['output_type'] = 'display_data';\n",
              "          await google.colab.output.renderOutput(dataTable, element);\n",
              "          const docLink = document.createElement('div');\n",
              "          docLink.innerHTML = docLinkHtml;\n",
              "          element.appendChild(docLink);\n",
              "        }\n",
              "      </script>\n",
              "    </div>\n",
              "  </div>\n",
              "  "
            ]
          },
          "metadata": {},
          "execution_count": 3
        }
      ],
      "source": [
        "# load data\n",
        "import io\n",
        "data = pd.read_csv(io.BytesIO(uploaded['ex2data1.txt']))\n",
        "data.head(12)"
      ]
    },
    {
      "cell_type": "markdown",
      "metadata": {
        "id": "VUXneO0dttD3"
      },
      "source": [
        "**Tahap 2**\n",
        "\n",
        "Mari buat persebaran plot dari dua skor dan gunakan kode warna untuk memvisualisasikan jika contohnya positif (diterima) atau negatif (tidak diterima)."
      ]
    },
    {
      "cell_type": "code",
      "execution_count": 5,
      "metadata": {
        "id": "4-sBxgVHttD3",
        "outputId": "a30e7f84-2671-45e8-e0e9-7d2eb15f65c6",
        "colab": {
          "base_uri": "https://localhost:8080/",
          "height": 513
        }
      },
      "outputs": [
        {
          "output_type": "display_data",
          "data": {
            "text/plain": [
              "<Figure size 864x576 with 1 Axes>"
            ],
            "image/png": "[encoded data removed]"
          },
          "metadata": {
            "needs_background": "light"
          }
        }
      ],
      "source": [
        "# plot skor positif dengan mangmbil nilai 1 pada data.\n",
        "positive = data[data['Admitted'].isin([1])]\n",
        "# plot skor negatif dengan mangmbil nilai 0 pada data.\n",
        "negative = data[data['Admitted'].isin([0])]\n",
        "\n",
        "# menampilkan hasil pemvisualisasian skor\n",
        "fig, ax = plt.subplots(figsize=(12,8))\n",
        "ax.scatter(positive['Exam 1'], positive['Exam 2'], s=50, c='b', marker='o', label='Admitted')\n",
        "ax.scatter(negative['Exam 1'], negative['Exam 2'], s=50, c='r', marker='x', label='Not Admitted')\n",
        "ax.legend()\n",
        "ax.set_xlabel('Score Exam 1')\n",
        "ax.set_ylabel('Score Exam 2')\n",
        "plt.title('Grafik pemvisualisasian skor')\n",
        "ax.grid()"
      ]
    },
    {
      "cell_type": "markdown",
      "metadata": {
        "id": "xlVVk3MwttD5"
      },
      "source": [
        "**Penjelasan**\n",
        "\n",
        "Tampaknya ada batas keputusan yang jelas antara dua kelas. Sekarang kita perlu mengimplementasikan regresi logistik sehingga kita dapat melatih model untuk memprediksi hasilnya."
      ]
    },
    {
      "cell_type": "markdown",
      "metadata": {
        "id": "LBFlvVHrttD6"
      },
      "source": [
        "**Tahap 3**\n",
        "\n",
        "Langkah selanjutnya kita perlu membuat fungsi sigmoid. Kode untuk ini cukup sederhana."
      ]
    },
    {
      "cell_type": "code",
      "execution_count": 6,
      "metadata": {
        "id": "VMxM2jMnttD6"
      },
      "outputs": [],
      "source": [
        "def sigmoid(z):\n",
        "    return 1 / (1 + np.exp(-z))"
      ]
    },
    {
      "cell_type": "markdown",
      "source": [
        "**Penjelasan**\n",
        "\n",
        "Fungsi sigmoid adalah fungsi aktivasi yang sering digunakan dalam jaringan saraf. Fungsi ini menerima parameter z dan mengembalikan nilai sigmoid dari z. Nilai sigmoid didefinisikan sebagai:\n",
        "\n",
        "sigmoid(z) = 1 / (1 + exp(-z))\n",
        "\n",
        "Fungsi sigmoid memiliki sifat yang mengubah setiap nilai input menjadi nilai antara 0 dan 1, yang berguna untuk tugas klasifikasi biner.\n",
        "\n",
        "Fungsi sigmoid juga memiliki sifat yang dapat dihitung turunannya, yang berguna untuk melatih jaringan saraf menggunakan metode gradient descent."
      ],
      "metadata": {
        "id": "OIvwBPa24QIe"
      }
    },
    {
      "cell_type": "markdown",
      "metadata": {
        "id": "83mp2DCjttD7"
      },
      "source": [
        "**Tahap 4**\n",
        "\n",
        "Marilah kita lakukan cek kecerdasan yang cepat untuk memastikan bahwa fungsi tersebut bekerja. \"Sanity check\" atau cek kecerdasan adalah tes sederhana yang dilakukan untuk memastikan bahwa suatu sistem atau proses bekerja dengan benar. Ini sering digunakan untuk memastikan bahwa suatu implementasi baru tidak mengandung kesalahan yang jelas atau tidak masuk akal, sebelum melanjutkan ke tahap selanjutnya. "
      ]
    },
    {
      "cell_type": "code",
      "execution_count": 7,
      "metadata": {
        "id": "M5eVwI4qttD8",
        "outputId": "c976bbe6-0e51-4948-8f8b-72e85cef554e",
        "colab": {
          "base_uri": "https://localhost:8080/",
          "height": 500
        }
      },
      "outputs": [
        {
          "output_type": "display_data",
          "data": {
            "text/plain": [
              "<Figure size 864x576 with 1 Axes>"
            ],
            "image/png": "[encoded data removed]"
          },
          "metadata": {
            "needs_background": "light"
          }
        },
        {
          "output_type": "execute_result",
          "data": {
            "text/plain": [
              "(None, None)"
            ]
          },
          "metadata": {},
          "execution_count": 7
        }
      ],
      "source": [
        "nums = np.arange(-10, 10, step=1)\n",
        "\n",
        "fig, ax = plt.subplots(figsize=(12,8))\n",
        "ax.plot(nums, sigmoid(nums), 'r')\n",
        "plt.grid(), plt.show()"
      ]
    },
    {
      "cell_type": "markdown",
      "metadata": {
        "id": "xcidOXGBttD8"
      },
      "source": [
        "**Tahap 5**\n",
        "\n",
        "Sekarang kita perlu menulis cost function untuk mengevaluasi suatu solusi. Cost function adalah ukuran kualitas dari suatu model. Kita menggunakan cost function untuk mengevaluasi model yang telah kita buat dan membandingkannya dengan model lain untuk melihat mana yang paling baik."
      ]
    },
    {
      "cell_type": "code",
      "execution_count": 8,
      "metadata": {
        "id": "6tpaU3aWttD9"
      },
      "outputs": [],
      "source": [
        "def cost(theta, X, y):\n",
        "    theta = np.matrix(theta)\n",
        "    X = np.matrix(X)\n",
        "    y = np.matrix(y)\n",
        "    first = np.multiply(-y, np.log(sigmoid(X * theta.T)))\n",
        "    second = np.multiply((1 - y), np.log(1 - sigmoid(X * theta.T)))\n",
        "    return np.sum(first - second) / (len(X))"
      ]
    },
    {
      "cell_type": "markdown",
      "source": [
        "**Penjelasan**\n",
        "\n",
        "Fungsi cost menghitung biaya dari penggunaan theta sebagai parameter untuk regresi logistik untuk menyesuaikan titik-titik data dalam X dan y.\n",
        "\n",
        "Fungsi tersebut pertama-tama menghitung sigmoid dari X * theta.T, di mana X adalah matriks desain dan theta adalah vektor parameter model. Ini menghasilkan matriks nilai probabilitas yang diprediksi untuk setiap titik data.\n",
        "\n",
        "Kemudian, fungsi tersebut menghitung produk elemen per elemen dari -y dan log(sigmoid(X * theta.T)), serta produk elemen per elemen dari (1 - y) dan log(1 - sigmoid(X * theta.T)). Kedua matriks tersebut dijumlahkan secara elemen per elemen, dan hasilnya dibagi dengan jumlah titik data untuk mendapatkan biaya rata-rata di seluruh titik data.\n",
        "\n",
        "Output dari fungsi cost adalah nilai skalar yang mewakili biaya rata-rata dari model. Biaya yang lebih rendah menunjukkan bahwa model lebih baik dalam menyesuaikan data."
      ],
      "metadata": {
        "id": "1g6eEyDM_rgF"
      }
    },
    {
      "cell_type": "markdown",
      "metadata": {
        "id": "r0jAr5ARttD-"
      },
      "source": [
        "**Tahap 6**\n",
        "\n",
        "Sekarang kita perlu melakukan beberapa pengaturan, serupa dengan yang kita lakukan pada latihan 1 untuk regresi linier."
      ]
    },
    {
      "cell_type": "code",
      "execution_count": 10,
      "metadata": {
        "id": "BD434VmhttD_"
      },
      "outputs": [],
      "source": [
        "# add a ones column - ini akan membuat perkalian matriks berjalan dengan mudah\n",
        "data.insert(0, 'Ones', 1)\n",
        "\n",
        "# set X (training data) and y (target variable)\n",
        "cols = data.shape[1]\n",
        "X = data.iloc[:,0:cols-1]\n",
        "y = data.iloc[:,cols-1:cols]\n",
        "\n",
        "# convert to numpy arrays and initalize the parameter array theta\n",
        "X = np.array(X.values)\n",
        "y = np.array(y.values)\n",
        "theta = np.zeros(3)"
      ]
    },
    {
      "cell_type": "markdown",
      "metadata": {
        "id": "Oeg5etBvttEA"
      },
      "source": [
        "Mari periksa bentuk dari array untuk memastikan semuanya terlihat bagus."
      ]
    },
    {
      "cell_type": "code",
      "execution_count": 11,
      "metadata": {
        "id": "MiR4KE5BttEA",
        "outputId": "3e7b85a4-a760-4b59-99bd-c7d459ee0688",
        "colab": {
          "base_uri": "https://localhost:8080/"
        }
      },
      "outputs": [
        {
          "output_type": "execute_result",
          "data": {
            "text/plain": [
              "((100, 3), (3,), (100, 1))"
            ]
          },
          "metadata": {},
          "execution_count": 11
        }
      ],
      "source": [
        "# bentuk array\n",
        "X.shape, theta.shape, y.shape"
      ]
    },
    {
      "cell_type": "markdown",
      "metadata": {
        "id": "r20NxGYOttEC"
      },
      "source": [
        "**Tahap 7**\n",
        "\n",
        "Sekarang mari kita hitung biaya untuk solusi awal kita (nilai 0 untuk theta)."
      ]
    },
    {
      "cell_type": "code",
      "execution_count": 12,
      "metadata": {
        "id": "cxrcD4_-ttEC",
        "outputId": "643f3336-ae98-41eb-cdff-908ff1429c29",
        "colab": {
          "base_uri": "https://localhost:8080/"
        }
      },
      "outputs": [
        {
          "output_type": "execute_result",
          "data": {
            "text/plain": [
              "0.6931471805599453"
            ]
          },
          "metadata": {},
          "execution_count": 12
        }
      ],
      "source": [
        "cost(theta, X, y)"
      ]
    },
    {
      "cell_type": "markdown",
      "source": [
        "**Penjelasan**\n",
        "\n",
        "Sekarang marilah kita hitung biaya untuk solusi awal kita (nilai 0 untuk theta). Theta adalah parameter dari model regresi logistik yang digunakan untuk memprediksi kemungkinan terjadinya suatu kejadian. Theta terdiri dari beberapa bobot dan bias yang mewakili kekuatan dari setiap fitur dalam data yang kita gunakan. Nilai theta yang tepat akan membantu kita memprediksi kemungkinan terjadinya suatu kejadian dengan tepat. Jika kita menetapkan nilai theta ke 0, maka kita tidak memperhitungkan pengaruh dari fitur-fitur tersebut dalam model kita. Sehingga, saat menghitung biaya untuk solusi awal ini, kita tidak menghitung pengaruh dari fitur-fitur tersebut dalam perhitungan biaya."
      ],
      "metadata": {
        "id": "y-jSU_gdAWyh"
      }
    },
    {
      "cell_type": "markdown",
      "metadata": {
        "id": "JW9OiogcttED"
      },
      "source": [
        "**Tahap 8**\n",
        "\n",
        "Selanjutnya, kita perlu sebuah fungsi untuk menghitung gradien (pembaruan parameter) berdasarkan data pelatihan, label, dan beberapa parameter theta. \n",
        "\n",
        "Gradien adalah turunan dari fungsi biaya terhadap bobot dan bias dari model. Kita menggunakan gradien untuk memperbarui nilai dari bobot dan bias selama proses pelatihan, sehingga dapat meminimalkan nilai dari fungsi biaya dan meningkatkan akurasi dari model. Proses pembaruan ini dilakukan secara iteratif sampai model mencapai konvergensi (tidak ada lagi peningkatan yang signifikan dari akurasi model)."
      ]
    },
    {
      "cell_type": "code",
      "execution_count": 13,
      "metadata": {
        "id": "FQwiGWFOttED"
      },
      "outputs": [],
      "source": [
        "def gradient(theta, X, y):\n",
        "    theta = np.matrix(theta)\n",
        "    X = np.matrix(X)\n",
        "    y = np.matrix(y)\n",
        "    \n",
        "    parameters = int(theta.ravel().shape[1])\n",
        "    grad = np.zeros(parameters)\n",
        "    \n",
        "    error = sigmoid(X * theta.T) - y\n",
        "    \n",
        "    for i in range(parameters):\n",
        "        term = np.multiply(error, X[:,i])\n",
        "        grad[i] = np.sum(term) / len(X)\n",
        "    \n",
        "    return grad"
      ]
    },
    {
      "cell_type": "markdown",
      "source": [
        "**Penjelasan**\n",
        "\n",
        "Fungsi gradient menghitung turunan dari fungsi biaya terhadap parameter model theta.\n",
        "\n",
        "Fungsi ini menerima tiga argumen: theta, X, dan y. theta adalah vektor parameter model, X adalah matriks desain, dan y adalah vektor nilai target.\n",
        "\n",
        "Fungsi tersebut pertama-tama menghitung kesalahan antara nilai probabilitas yang diprediksi (dihitung menggunakan fungsi sigmoid) dan nilai target sebenarnya.\n",
        "\n",
        "Kemudian, ia mengelilingi setiap parameter di theta, menghitung turunan parsial dari fungsi biaya terhadap parameter tersebut, dan menyimpan hasilnya dalam array grad. Turunan parsial dihitung menggunakan kesalahan dan kolom yang sesuai dari matriks desain.\n",
        "\n",
        "Akhirnya, fungsi tersebut mengembalikan array grad, yang merupakan vektor turunan yang berisi turunan parsial dari fungsi biaya terhadap setiap parameter di theta. Vektor turunan ini digunakan untuk memperbarui parameter dalam proses optimisasi iteratif, seperti gradient descent.\n",
        "\n",
        "Perhatikan bahwa kita sebenarnya tidak melakukan turunan gradien dalam fungsi ini - kita hanya menghitung satu langkah gradien. Dalam latihan, sebuah fungsi Octave yang disebut \"fminunc\" digunakan untuk mengoptimalkan parameter dengan menggunakan fungsi untuk menghitung biaya dan gradien. \n",
        "\n",
        "Karena kita menggunakan Python, kita bisa menggunakan namespace \"optimize\" dari SciPy untuk melakukan hal yang sama. \"Gradient descent\" atau turunan gradien adalah algoritma yang digunakan untuk mengoptimalkan fungsi dengan mengikuti arah dari gradien terbesar. Algoritma ini akan melakukan pembaruan terhadap bobot dan bias secara iteratif sampai mencapai konvergensi (tidak ada lagi peningkatan yang signifikan dari akurasi model)."
      ],
      "metadata": {
        "id": "I7ncA-IzD72g"
      }
    },
    {
      "cell_type": "markdown",
      "metadata": {
        "id": "6WBcN7hJttEE"
      },
      "source": [
        "Let's look at a single call to the gradient method using our data and initial paramter values of 0."
      ]
    },
    {
      "cell_type": "code",
      "execution_count": 14,
      "metadata": {
        "id": "AMkrCZXhttEE",
        "outputId": "b4e6aff7-e684-4aee-c435-5de9169440ab",
        "colab": {
          "base_uri": "https://localhost:8080/"
        }
      },
      "outputs": [
        {
          "output_type": "execute_result",
          "data": {
            "text/plain": [
              "array([ -0.1       , -12.00921659, -11.26284221])"
            ]
          },
          "metadata": {},
          "execution_count": 14
        }
      ],
      "source": [
        "gradient(theta, X, y)"
      ]
    },
    {
      "cell_type": "markdown",
      "metadata": {
        "id": "ist68XIcttEF"
      },
      "source": [
        "**Tahap 9**\n",
        "\n",
        "Now we can use SciPy's truncated newton (TNC) implementation to find the optimal parameters."
      ]
    },
    {
      "cell_type": "code",
      "execution_count": 15,
      "metadata": {
        "id": "n-fH5DOnttEF",
        "outputId": "616cd1af-bb20-4d20-96fa-4d017d28dcc4",
        "colab": {
          "base_uri": "https://localhost:8080/"
        }
      },
      "outputs": [
        {
          "output_type": "execute_result",
          "data": {
            "text/plain": [
              "(array([-25.16131857,   0.20623159,   0.20147149]), 36, 0)"
            ]
          },
          "metadata": {},
          "execution_count": 15
        }
      ],
      "source": [
        "import scipy.optimize as opt\n",
        "result = opt.fmin_tnc(func=cost, x0=theta, fprime=gradient, args=(X, y))\n",
        "result"
      ]
    },
    {
      "cell_type": "markdown",
      "source": [
        "**Penjelasan**\n",
        "\n",
        "Sekarang kita bisa menggunakan implementasi truncated newton (TNC) dari SciPy untuk menemukan parameter yang optimal. Truncated Newton atau TNC adalah metode optimisasi yang digunakan untuk menemukan nilai yang meminimalkan suatu fungsi. Metode ini merupakan modifikasi dari metode Newton-Raphson yang telah terkenal sebelumnya. Metode TNC membatasi jumlah iterasi yang dilakukan dan menggunakan pengecekan konvergensi yang lebih ketat, sehingga lebih stabil dan efisien daripada metode Newton-Raphson."
      ],
      "metadata": {
        "id": "1hG2r-fVFFOq"
      }
    },
    {
      "cell_type": "markdown",
      "metadata": {
        "id": "fHmT1jH_ttEG"
      },
      "source": [
        "**Tahap 10**\n",
        "\n",
        "Let's see what the our cost looks like with this solution."
      ]
    },
    {
      "cell_type": "code",
      "execution_count": 16,
      "metadata": {
        "id": "UfItsR60ttEH",
        "outputId": "94cfc3d0-976f-4faa-928e-16f1b6bdfea1",
        "colab": {
          "base_uri": "https://localhost:8080/"
        }
      },
      "outputs": [
        {
          "output_type": "execute_result",
          "data": {
            "text/plain": [
              "0.20349770158947483"
            ]
          },
          "metadata": {},
          "execution_count": 16
        }
      ],
      "source": [
        "cost(result[0], X, y)"
      ]
    },
    {
      "cell_type": "markdown",
      "metadata": {
        "id": "03CTAS34ttEI"
      },
      "source": [
        "**Tahap 11**\n",
        "\n",
        "Selanjutnya, kita perlu menulis sebuah fungsi yang akan mengeluarkan prediksi untuk suatu dataset X menggunakan parameter theta yang telah kita pelajari. Kita kemudian bisa menggunakan fungsi ini untuk menilai akurasi pelatihan dari kelasifikasi kita. Fungsi ini akan menerima dataset X dan parameter theta sebagai input dan mengeluarkan prediksi untuk setiap contoh dalam dataset. Kita bisa menggunakan prediksi ini untuk menghitung seberapa akurat model kita dalam memprediksi kelas dari contoh-contoh dalam dataset."
      ]
    },
    {
      "cell_type": "code",
      "execution_count": 17,
      "metadata": {
        "id": "29g5DMmyttEI"
      },
      "outputs": [],
      "source": [
        "def predict(theta, X):\n",
        "    probability = sigmoid(X * theta.T)\n",
        "    return [1 if x >= 0.5 else 0 for x in probability]"
      ]
    },
    {
      "cell_type": "markdown",
      "source": [
        "**Penjelasan**\n",
        "\n",
        "code ini bertujuan untuk melakukan prediksi terhadap sesuatu berdasarkan parameter theta dan data X. Fungsi ini mengembalikan sebuah list yang terdiri dari angka 1 atau 0, tergantung pada hasil dari fungsi sigmoid dari perhitungan X * theta.T. Jika hasilnya lebih besar atau sama dengan 0.5, maka elemen dalam list akan bernilai 1. Jika hasilnya kurang dari 0.5, maka elemen dalam list akan bernilai 0."
      ],
      "metadata": {
        "id": "IJR55PgnFw26"
      }
    },
    {
      "cell_type": "code",
      "execution_count": 18,
      "metadata": {
        "id": "oZEv9DIjttEJ",
        "outputId": "86307696-5fb1-4a37-e579-d904da90e070",
        "colab": {
          "base_uri": "https://localhost:8080/"
        }
      },
      "outputs": [
        {
          "output_type": "stream",
          "name": "stdout",
          "text": [
            "accuracy = 89%\n"
          ]
        }
      ],
      "source": [
        "theta_min = np.matrix(result[0])\n",
        "predictions = predict(theta_min, X)\n",
        "correct = [1 if ((a == 1 and b == 1) or (a == 0 and b == 0)) else 0 for (a, b) in zip(predictions, y)]\n",
        "accuracy = (sum(map(int, correct)) % len(correct))\n",
        "print('accuracy = {0}%'.format(accuracy))"
      ]
    },
    {
      "cell_type": "markdown",
      "source": [
        "**penjelasan**\n",
        "\n",
        "Block kode ini digunakan untuk menghitung tingkat akurasi dari suatu model prediksi. Pertama, variabel theta_min diinisialisasi dengan nilai dari elemen pertama dari hasil yang dihasilkan oleh fungsi optimisasi yang telah dijalankan sebelumnya. Kemudian, fungsi predict() dipanggil dengan parameter theta_min dan X untuk menghasilkan sebuah list yang berisi prediksi dari model.\n",
        "\n",
        "Setelah itu, variabel correct diinisialisasi dengan sebuah list comprehension yang menghitung jumlah prediksi yang benar dengan cara membandingkan elemen-elemen dari list predictions dan y. Jika kedua elemen tersebut sama, maka akan dianggap benar dan nilai 1 akan ditambahkan ke dalam list correct. Jika tidak, maka nilai 0 akan ditambahkan ke dalam list correct.\n",
        "\n",
        "Terakhir, tingkat akurasi dihitung dengan menjumlahkan semua elemen dalam list correct, lalu menghitung modulo dari jumlah tersebut dengan panjang dari list correct. Hasilnya kemudian diformat dengan string dan dicetak ke layar.\n",
        "\n",
        "\n",
        "\n",
        "\n"
      ],
      "metadata": {
        "id": "n4NdhGWGHHXJ"
      }
    },
    {
      "cell_type": "markdown",
      "metadata": {
        "id": "bdHswQJattEJ"
      },
      "source": [
        "**KESIMPULAN**\n",
        "\n",
        "Klasifikasi regresi logistik kita dengan benar memprediksi apakah siswa diterima atau tidak 89% dari waktu. Tidak buruk! Perlu diingat bahwa ini adalah akurasi set pelatihan. Kita tidak menyimpan set hold-out atau menggunakan cross-validation untuk mendapatkan perkiraan yang benar dari akurasi, sehingga angka ini mungkin lebih tinggi dari performa sebenarnya (topik ini dibahas dalam latihan berikutnya)."
      ]
    },
    {
      "cell_type": "markdown",
      "metadata": {
        "id": "135xAJEMttEK"
      },
      "source": [
        "# **Regularized logistic regression**"
      ]
    },
    {
      "cell_type": "markdown",
      "metadata": {
        "id": "Ec4stZmottEK"
      },
      "source": [
        "Dalam bagian kedua dari latihan ini, kita akan meningkatkan algoritma regresi logistik kita dari bagian pertama dengan menambahkan istilah regularisasi. Jika Anda tidak familiar dengan regularisasi, atau ingin mempelajari lebih lanjut tentang persamaan yang digunakan dalam bagian ini, silakan merujuk pada \"ex2.pdf\" di folder \"latihan\". Secara singkat, regularisasi adalah istilah dalam fungsi biaya yang menyebabkan algoritma lebih memilih model yang \"lebih sederhana\" (dalam hal ini, model dengan koefisien yang lebih kecil). Teori yang mendasari adalah bahwa ini membantu untuk meminimalkan overfitting dan meningkatkan kemampuan model untuk mengeneralisasikan. Dengan demikian, mari kita mulai."
      ]
    },
    {
      "cell_type": "markdown",
      "metadata": {
        "id": "1EWsjTWMttEK"
      },
      "source": [
        "**Tahap 1**\n",
        "\n",
        "Jika Anda adalah manajer produk pabrik dan Anda memiliki hasil tes untuk beberapa mikrochip pada dua tes yang berbeda. Dari dua tes ini, Anda ingin menentukan apakah mikrochip harus diterima atau ditolak. Untuk membantu Anda membuat keputusan, Anda memiliki dataset hasil tes pada mikrochip masa lalu, dari mana Anda dapat membangun model regresi logistik."
      ]
    },
    {
      "cell_type": "markdown",
      "metadata": {
        "id": "t5NUmf2_ttEL"
      },
      "source": [
        "Similar to part 1, let's start by visualizing the data."
      ]
    },
    {
      "cell_type": "code",
      "execution_count": 19,
      "metadata": {
        "id": "rJmy-LryttEL",
        "colab": {
          "base_uri": "https://localhost:8080/",
          "height": 74
        },
        "outputId": "484986ea-bf8e-4039-e11a-436f6b64b325"
      },
      "outputs": [
        {
          "output_type": "display_data",
          "data": {
            "text/plain": [
              "<IPython.core.display.HTML object>"
            ],
            "text/html": [
              "\n",
              "     <input type=\"file\" id=\"files-847d5013-0d38-4967-916d-7ea498855621\" name=\"files[]\" multiple disabled\n",
              "        style=\"border:none\" />\n",
              "     <output id=\"result-847d5013-0d38-4967-916d-7ea498855621\">\n",
              "      Upload widget is only available when the cell has been executed in the\n",
              "      current browser session. Please rerun this cell to enable.\n",
              "      </output>\n",
              "      <script>// Copyright 2017 Google LLC\n",
              "//\n",
              "// Licensed under the Apache License, Version 2.0 (the \"License\");\n",
              "// you may not use this file except in compliance with the License.\n",
              "// You may obtain a copy of the License at\n",
              "//\n",
              "//      http://www.apache.org/licenses/LICENSE-2.0\n",
              "//\n",
              "// Unless required by applicable law or agreed to in writing, software\n",
              "// distributed under the License is distributed on an \"AS IS\" BASIS,\n",
              "// WITHOUT WARRANTIES OR CONDITIONS OF ANY KIND, either express or implied.\n",
              "// See the License for the specific language governing permissions and\n",
              "// limitations under the License.\n",
              "\n",
              "/**\n",
              " * @fileoverview Helpers for google.colab Python module.\n",
              " */\n",
              "(function(scope) {\n",
              "function span(text, styleAttributes = {}) {\n",
              "  const element = document.createElement('span');\n",
              "  element.textContent = text;\n",
              "  for (const key of Object.keys(styleAttributes)) {\n",
              "    element.style[key] = styleAttributes[key];\n",
              "  }\n",
              "  return element;\n",
              "}\n",
              "\n",
              "// Max number of bytes which will be uploaded at a time.\n",
              "const MAX_PAYLOAD_SIZE = 100 * 1024;\n",
              "\n",
              "function _uploadFiles(inputId, outputId) {\n",
              "  const steps = uploadFilesStep(inputId, outputId);\n",
              "  const outputElement = document.getElementById(outputId);\n",
              "  // Cache steps on the outputElement to make it available for the next call\n",
              "  // to uploadFilesContinue from Python.\n",
              "  outputElement.steps = steps;\n",
              "\n",
              "  return _uploadFilesContinue(outputId);\n",
              "}\n",
              "\n",
              "// This is roughly an async generator (not supported in the browser yet),\n",
              "// where there are multiple asynchronous steps and the Python side is going\n",
              "// to poll for completion of each step.\n",
              "// This uses a Promise to block the python side on completion of each step,\n",
              "// then passes the result of the previous step as the input to the next step.\n",
              "function _uploadFilesContinue(outputId) {\n",
              "  const outputElement = document.getElementById(outputId);\n",
              "  const steps = outputElement.steps;\n",
              "\n",
              "  const next = steps.next(outputElement.lastPromiseValue);\n",
              "  return Promise.resolve(next.value.promise).then((value) => {\n",
              "    // Cache the last promise value to make it available to the next\n",
              "    // step of the generator.\n",
              "    outputElement.lastPromiseValue = value;\n",
              "    return next.value.response;\n",
              "  });\n",
              "}\n",
              "\n",
              "/**\n",
              " * Generator function which is called between each async step of the upload\n",
              " * process.\n",
              " * @param {string} inputId Element ID of the input file picker element.\n",
              " * @param {string} outputId Element ID of the output display.\n",
              " * @return {!Iterable<!Object>} Iterable of next steps.\n",
              " */\n",
              "function* uploadFilesStep(inputId, outputId) {\n",
              "  const inputElement = document.getElementById(inputId);\n",
              "  inputElement.disabled = false;\n",
              "\n",
              "  const outputElement = document.getElementById(outputId);\n",
              "  outputElement.innerHTML = '';\n",
              "\n",
              "  const pickedPromise = new Promise((resolve) => {\n",
              "    inputElement.addEventListener('change', (e) => {\n",
              "      resolve(e.target.files);\n",
              "    });\n",
              "  });\n",
              "\n",
              "  const cancel = document.createElement('button');\n",
              "  inputElement.parentElement.appendChild(cancel);\n",
              "  cancel.textContent = 'Cancel upload';\n",
              "  const cancelPromise = new Promise((resolve) => {\n",
              "    cancel.onclick = () => {\n",
              "      resolve(null);\n",
              "    };\n",
              "  });\n",
              "\n",
              "  // Wait for the user to pick the files.\n",
              "  const files = yield {\n",
              "    promise: Promise.race([pickedPromise, cancelPromise]),\n",
              "    response: {\n",
              "      action: 'starting',\n",
              "    }\n",
              "  };\n",
              "\n",
              "  cancel.remove();\n",
              "\n",
              "  // Disable the input element since further picks are not allowed.\n",
              "  inputElement.disabled = true;\n",
              "\n",
              "  if (!files) {\n",
              "    return {\n",
              "      response: {\n",
              "        action: 'complete',\n",
              "      }\n",
              "    };\n",
              "  }\n",
              "\n",
              "  for (const file of files) {\n",
              "    const li = document.createElement('li');\n",
              "    li.append(span(file.name, {fontWeight: 'bold'}));\n",
              "    li.append(span(\n",
              "        `(${file.type || 'n/a'}) - ${file.size} bytes, ` +\n",
              "        `last modified: ${\n",
              "            file.lastModifiedDate ? file.lastModifiedDate.toLocaleDateString() :\n",
              "                                    'n/a'} - `));\n",
              "    const percent = span('0% done');\n",
              "    li.appendChild(percent);\n",
              "\n",
              "    outputElement.appendChild(li);\n",
              "\n",
              "    const fileDataPromise = new Promise((resolve) => {\n",
              "      const reader = new FileReader();\n",
              "      reader.onload = (e) => {\n",
              "        resolve(e.target.result);\n",
              "      };\n",
              "      reader.readAsArrayBuffer(file);\n",
              "    });\n",
              "    // Wait for the data to be ready.\n",
              "    let fileData = yield {\n",
              "      promise: fileDataPromise,\n",
              "      response: {\n",
              "        action: 'continue',\n",
              "      }\n",
              "    };\n",
              "\n",
              "    // Use a chunked sending to avoid message size limits. See b/62115660.\n",
              "    let position = 0;\n",
              "    do {\n",
              "      const length = Math.min(fileData.byteLength - position, MAX_PAYLOAD_SIZE);\n",
              "      const chunk = new Uint8Array(fileData, position, length);\n",
              "      position += length;\n",
              "\n",
              "      const base64 = btoa(String.fromCharCode.apply(null, chunk));\n",
              "      yield {\n",
              "        response: {\n",
              "          action: 'append',\n",
              "          file: file.name,\n",
              "          data: base64,\n",
              "        },\n",
              "      };\n",
              "\n",
              "      let percentDone = fileData.byteLength === 0 ?\n",
              "          100 :\n",
              "          Math.round((position / fileData.byteLength) * 100);\n",
              "      percent.textContent = `${percentDone}% done`;\n",
              "\n",
              "    } while (position < fileData.byteLength);\n",
              "  }\n",
              "\n",
              "  // All done.\n",
              "  yield {\n",
              "    response: {\n",
              "      action: 'complete',\n",
              "    }\n",
              "  };\n",
              "}\n",
              "\n",
              "scope.google = scope.google || {};\n",
              "scope.google.colab = scope.google.colab || {};\n",
              "scope.google.colab._files = {\n",
              "  _uploadFiles,\n",
              "  _uploadFilesContinue,\n",
              "};\n",
              "})(self);\n",
              "</script> "
            ]
          },
          "metadata": {}
        },
        {
          "output_type": "stream",
          "name": "stdout",
          "text": [
            "Saving ex2data2.txt to ex2data2.txt\n"
          ]
        }
      ],
      "source": [
        "from google.colab import files\n",
        "uploaded = files.upload()"
      ]
    },
    {
      "cell_type": "code",
      "source": [
        "import io\n",
        "data2 = pd.read_csv(io.BytesIO(uploaded['ex2data2.txt']))\n",
        "data2.head(12)"
      ],
      "metadata": {
        "id": "Zbg3nUB83YQ2",
        "colab": {
          "base_uri": "https://localhost:8080/",
          "height": 426
        },
        "outputId": "7924e359-d5a5-405d-d701-42cda87a2446"
      },
      "execution_count": 21,
      "outputs": [
        {
          "output_type": "execute_result",
          "data": {
            "text/plain": [
              "      Test 1    Test 2  Accepted\n",
              "0   0.051267  0.699560         1\n",
              "1  -0.092742  0.684940         1\n",
              "2  -0.213710  0.692250         1\n",
              "3  -0.375000  0.502190         1\n",
              "4  -0.513250  0.465640         1\n",
              "5  -0.524770  0.209800         1\n",
              "6  -0.398040  0.034357         1\n",
              "7  -0.305880 -0.192250         1\n",
              "8   0.016705 -0.404240         1\n",
              "9   0.131910 -0.513890         1\n",
              "10  0.385370 -0.565060         1\n",
              "11  0.529380 -0.521200         1"
            ],
            "text/html": [
              "\n",
              "  <div id=\"df-40e609ef-ca3c-4c7e-8f86-daf0816415c7\">\n",
              "    <div class=\"colab-df-container\">\n",
              "      <div>\n",
              "<style scoped>\n",
              "    .dataframe tbody tr th:only-of-type {\n",
              "        vertical-align: middle;\n",
              "    }\n",
              "\n",
              "    .dataframe tbody tr th {\n",
              "        vertical-align: top;\n",
              "    }\n",
              "\n",
              "    .dataframe thead th {\n",
              "        text-align: right;\n",
              "    }\n",
              "</style>\n",
              "<table border=\"1\" class=\"dataframe\">\n",
              "  <thead>\n",
              "    <tr style=\"text-align: right;\">\n",
              "      <th></th>\n",
              "      <th>Test 1</th>\n",
              "      <th>Test 2</th>\n",
              "      <th>Accepted</th>\n",
              "    </tr>\n",
              "  </thead>\n",
              "  <tbody>\n",
              "    <tr>\n",
              "      <th>0</th>\n",
              "      <td>0.051267</td>\n",
              "      <td>0.699560</td>\n",
              "      <td>1</td>\n",
              "    </tr>\n",
              "    <tr>\n",
              "      <th>1</th>\n",
              "      <td>-0.092742</td>\n",
              "      <td>0.684940</td>\n",
              "      <td>1</td>\n",
              "    </tr>\n",
              "    <tr>\n",
              "      <th>2</th>\n",
              "      <td>-0.213710</td>\n",
              "      <td>0.692250</td>\n",
              "      <td>1</td>\n",
              "    </tr>\n",
              "    <tr>\n",
              "      <th>3</th>\n",
              "      <td>-0.375000</td>\n",
              "      <td>0.502190</td>\n",
              "      <td>1</td>\n",
              "    </tr>\n",
              "    <tr>\n",
              "      <th>4</th>\n",
              "      <td>-0.513250</td>\n",
              "      <td>0.465640</td>\n",
              "      <td>1</td>\n",
              "    </tr>\n",
              "    <tr>\n",
              "      <th>5</th>\n",
              "      <td>-0.524770</td>\n",
              "      <td>0.209800</td>\n",
              "      <td>1</td>\n",
              "    </tr>\n",
              "    <tr>\n",
              "      <th>6</th>\n",
              "      <td>-0.398040</td>\n",
              "      <td>0.034357</td>\n",
              "      <td>1</td>\n",
              "    </tr>\n",
              "    <tr>\n",
              "      <th>7</th>\n",
              "      <td>-0.305880</td>\n",
              "      <td>-0.192250</td>\n",
              "      <td>1</td>\n",
              "    </tr>\n",
              "    <tr>\n",
              "      <th>8</th>\n",
              "      <td>0.016705</td>\n",
              "      <td>-0.404240</td>\n",
              "      <td>1</td>\n",
              "    </tr>\n",
              "    <tr>\n",
              "      <th>9</th>\n",
              "      <td>0.131910</td>\n",
              "      <td>-0.513890</td>\n",
              "      <td>1</td>\n",
              "    </tr>\n",
              "    <tr>\n",
              "      <th>10</th>\n",
              "      <td>0.385370</td>\n",
              "      <td>-0.565060</td>\n",
              "      <td>1</td>\n",
              "    </tr>\n",
              "    <tr>\n",
              "      <th>11</th>\n",
              "      <td>0.529380</td>\n",
              "      <td>-0.521200</td>\n",
              "      <td>1</td>\n",
              "    </tr>\n",
              "  </tbody>\n",
              "</table>\n",
              "</div>\n",
              "      <button class=\"colab-df-convert\" onclick=\"convertToInteractive('df-40e609ef-ca3c-4c7e-8f86-daf0816415c7')\"\n",
              "              title=\"Convert this dataframe to an interactive table.\"\n",
              "              style=\"display:none;\">\n",
              "        \n",
              "  <svg xmlns=\"http://www.w3.org/2000/svg\" height=\"24px\"viewBox=\"0 0 24 24\"\n",
              "       width=\"24px\">\n",
              "    <path d=\"M0 0h24v24H0V0z\" fill=\"none\"/>\n",
              "    <path d=\"M18.56 5.44l.94 2.06.94-2.06 2.06-.94-2.06-.94-.94-2.06-.94 2.06-2.06.94zm-11 1L8.5 8.5l.94-2.06 2.06-.94-2.06-.94L8.5 2.5l-.94 2.06-2.06.94zm10 10l.94 2.06.94-2.06 2.06-.94-2.06-.94-.94-2.06-.94 2.06-2.06.94z\"/><path d=\"M17.41 7.96l-1.37-1.37c-.4-.4-.92-.59-1.43-.59-.52 0-1.04.2-1.43.59L10.3 9.45l-7.72 7.72c-.78.78-.78 2.05 0 2.83L4 21.41c.39.39.9.59 1.41.59.51 0 1.02-.2 1.41-.59l7.78-7.78 2.81-2.81c.8-.78.8-2.07 0-2.86zM5.41 20L4 18.59l7.72-7.72 1.47 1.35L5.41 20z\"/>\n",
              "  </svg>\n",
              "      </button>\n",
              "      \n",
              "  <style>\n",
              "    .colab-df-container {\n",
              "      display:flex;\n",
              "      flex-wrap:wrap;\n",
              "      gap: 12px;\n",
              "    }\n",
              "\n",
              "    .colab-df-convert {\n",
              "      background-color: #E8F0FE;\n",
              "      border: none;\n",
              "      border-radius: 50%;\n",
              "      cursor: pointer;\n",
              "      display: none;\n",
              "      fill: #1967D2;\n",
              "      height: 32px;\n",
              "      padding: 0 0 0 0;\n",
              "      width: 32px;\n",
              "    }\n",
              "\n",
              "    .colab-df-convert:hover {\n",
              "      background-color: #E2EBFA;\n",
              "      box-shadow: 0px 1px 2px rgba(60, 64, 67, 0.3), 0px 1px 3px 1px rgba(60, 64, 67, 0.15);\n",
              "      fill: #174EA6;\n",
              "    }\n",
              "\n",
              "    [theme=dark] .colab-df-convert {\n",
              "      background-color: #3B4455;\n",
              "      fill: #D2E3FC;\n",
              "    }\n",
              "\n",
              "    [theme=dark] .colab-df-convert:hover {\n",
              "      background-color: #434B5C;\n",
              "      box-shadow: 0px 1px 3px 1px rgba(0, 0, 0, 0.15);\n",
              "      filter: drop-shadow(0px 1px 2px rgba(0, 0, 0, 0.3));\n",
              "      fill: #FFFFFF;\n",
              "    }\n",
              "  </style>\n",
              "\n",
              "      <script>\n",
              "        const buttonEl =\n",
              "          document.querySelector('#df-40e609ef-ca3c-4c7e-8f86-daf0816415c7 button.colab-df-convert');\n",
              "        buttonEl.style.display =\n",
              "          google.colab.kernel.accessAllowed ? 'block' : 'none';\n",
              "\n",
              "        async function convertToInteractive(key) {\n",
              "          const element = document.querySelector('#df-40e609ef-ca3c-4c7e-8f86-daf0816415c7');\n",
              "          const dataTable =\n",
              "            await google.colab.kernel.invokeFunction('convertToInteractive',\n",
              "                                                     [key], {});\n",
              "          if (!dataTable) return;\n",
              "\n",
              "          const docLinkHtml = 'Like what you see? Visit the ' +\n",
              "            '<a target=\"_blank\" href=https://colab.research.google.com/notebooks/data_table.ipynb>data table notebook</a>'\n",
              "            + ' to learn more about interactive tables.';\n",
              "          element.innerHTML = '';\n",
              "          dataTable['output_type'] = 'display_data';\n",
              "          await google.colab.output.renderOutput(dataTable, element);\n",
              "          const docLink = document.createElement('div');\n",
              "          docLink.innerHTML = docLinkHtml;\n",
              "          element.appendChild(docLink);\n",
              "        }\n",
              "      </script>\n",
              "    </div>\n",
              "  </div>\n",
              "  "
            ]
          },
          "metadata": {},
          "execution_count": 21
        }
      ]
    },
    {
      "cell_type": "code",
      "execution_count": 22,
      "metadata": {
        "id": "tMqPZhXkttEL",
        "colab": {
          "base_uri": "https://localhost:8080/",
          "height": 514
        },
        "outputId": "93fd2ab1-8785-4405-b1e4-3c303dae1f0d"
      },
      "outputs": [
        {
          "output_type": "execute_result",
          "data": {
            "text/plain": [
              "Text(0, 0.5, 'Test 2 Score')"
            ]
          },
          "metadata": {},
          "execution_count": 22
        },
        {
          "output_type": "display_data",
          "data": {
            "text/plain": [
              "<Figure size 864x576 with 1 Axes>"
            ],
            "image/png": "[encoded data removed]"
          },
          "metadata": {
            "needs_background": "light"
          }
        }
      ],
      "source": [
        "# ploting nilai 1 ke variabel positif\n",
        "positive = data2[data2['Accepted'].isin([1])]\n",
        "# ploting nilai 0 ke variabel negatif\n",
        "negative = data2[data2['Accepted'].isin([0])]\n",
        "\n",
        "# ploting data\n",
        "fig, ax = plt.subplots(figsize=(12,8))\n",
        "ax.scatter(positive['Test 1'], positive['Test 2'], s=50, c='b', marker='o', label='Accepted')\n",
        "ax.scatter(negative['Test 1'], negative['Test 2'], s=50, c='r', marker='x', label='Rejected')\n",
        "ax.legend()\n",
        "ax.set_xlabel('Test 1 Score')\n",
        "ax.set_ylabel('Test 2 Score')"
      ]
    },
    {
      "cell_type": "markdown",
      "metadata": {
        "id": "SQkeI1zQttEM"
      },
      "source": [
        "**Penjelasan**\n",
        "\n",
        "Data ini terlihat sedikit lebih rumit daripada contoh sebelumnya. Terutama, Anda akan melihat bahwa tidak ada batas keputusan linear yang akan bekerja dengan baik pada data ini. Salah satu cara untuk menangani ini dengan menggunakan teknik linear seperti regresi logistik adalah dengan membuat fitur yang diperoleh dari polinomial dari fitur asli. Mari kita mulai dengan membuat banyak fitur polinomial."
      ]
    },
    {
      "cell_type": "markdown",
      "source": [
        "**Tahap 2**\n",
        "\n",
        "Membuat fitur polonomial"
      ],
      "metadata": {
        "id": "ArWgO59TSlbm"
      }
    },
    {
      "cell_type": "code",
      "execution_count": 23,
      "metadata": {
        "id": "iilkyUIQttEM",
        "colab": {
          "base_uri": "https://localhost:8080/",
          "height": 270
        },
        "outputId": "1f676c9b-fd0e-4992-feb1-227f46f1bd18"
      },
      "outputs": [
        {
          "output_type": "execute_result",
          "data": {
            "text/plain": [
              "   Accepted  Ones       F10       F20       F21       F30       F31       F32  \\\n",
              "0         1     1  0.051267  0.002628  0.035864  0.000135  0.001839  0.025089   \n",
              "1         1     1 -0.092742  0.008601 -0.063523 -0.000798  0.005891 -0.043509   \n",
              "2         1     1 -0.213710  0.045672 -0.147941 -0.009761  0.031616 -0.102412   \n",
              "3         1     1 -0.375000  0.140625 -0.188321 -0.052734  0.070620 -0.094573   \n",
              "4         1     1 -0.513250  0.263426 -0.238990 -0.135203  0.122661 -0.111283   \n",
              "\n",
              "        F40       F41       F42       F43  \n",
              "0  0.000007  0.000094  0.001286  0.017551  \n",
              "1  0.000074 -0.000546  0.004035 -0.029801  \n",
              "2  0.002086 -0.006757  0.021886 -0.070895  \n",
              "3  0.019775 -0.026483  0.035465 -0.047494  \n",
              "4  0.069393 -0.062956  0.057116 -0.051818  "
            ],
            "text/html": [
              "\n",
              "  <div id=\"df-2d02476d-4f53-49e6-bc51-65e9b06e7f1f\">\n",
              "    <div class=\"colab-df-container\">\n",
              "      <div>\n",
              "<style scoped>\n",
              "    .dataframe tbody tr th:only-of-type {\n",
              "        vertical-align: middle;\n",
              "    }\n",
              "\n",
              "    .dataframe tbody tr th {\n",
              "        vertical-align: top;\n",
              "    }\n",
              "\n",
              "    .dataframe thead th {\n",
              "        text-align: right;\n",
              "    }\n",
              "</style>\n",
              "<table border=\"1\" class=\"dataframe\">\n",
              "  <thead>\n",
              "    <tr style=\"text-align: right;\">\n",
              "      <th></th>\n",
              "      <th>Accepted</th>\n",
              "      <th>Ones</th>\n",
              "      <th>F10</th>\n",
              "      <th>F20</th>\n",
              "      <th>F21</th>\n",
              "      <th>F30</th>\n",
              "      <th>F31</th>\n",
              "      <th>F32</th>\n",
              "      <th>F40</th>\n",
              "      <th>F41</th>\n",
              "      <th>F42</th>\n",
              "      <th>F43</th>\n",
              "    </tr>\n",
              "  </thead>\n",
              "  <tbody>\n",
              "    <tr>\n",
              "      <th>0</th>\n",
              "      <td>1</td>\n",
              "      <td>1</td>\n",
              "      <td>0.051267</td>\n",
              "      <td>0.002628</td>\n",
              "      <td>0.035864</td>\n",
              "      <td>0.000135</td>\n",
              "      <td>0.001839</td>\n",
              "      <td>0.025089</td>\n",
              "      <td>0.000007</td>\n",
              "      <td>0.000094</td>\n",
              "      <td>0.001286</td>\n",
              "      <td>0.017551</td>\n",
              "    </tr>\n",
              "    <tr>\n",
              "      <th>1</th>\n",
              "      <td>1</td>\n",
              "      <td>1</td>\n",
              "      <td>-0.092742</td>\n",
              "      <td>0.008601</td>\n",
              "      <td>-0.063523</td>\n",
              "      <td>-0.000798</td>\n",
              "      <td>0.005891</td>\n",
              "      <td>-0.043509</td>\n",
              "      <td>0.000074</td>\n",
              "      <td>-0.000546</td>\n",
              "      <td>0.004035</td>\n",
              "      <td>-0.029801</td>\n",
              "    </tr>\n",
              "    <tr>\n",
              "      <th>2</th>\n",
              "      <td>1</td>\n",
              "      <td>1</td>\n",
              "      <td>-0.213710</td>\n",
              "      <td>0.045672</td>\n",
              "      <td>-0.147941</td>\n",
              "      <td>-0.009761</td>\n",
              "      <td>0.031616</td>\n",
              "      <td>-0.102412</td>\n",
              "      <td>0.002086</td>\n",
              "      <td>-0.006757</td>\n",
              "      <td>0.021886</td>\n",
              "      <td>-0.070895</td>\n",
              "    </tr>\n",
              "    <tr>\n",
              "      <th>3</th>\n",
              "      <td>1</td>\n",
              "      <td>1</td>\n",
              "      <td>-0.375000</td>\n",
              "      <td>0.140625</td>\n",
              "      <td>-0.188321</td>\n",
              "      <td>-0.052734</td>\n",
              "      <td>0.070620</td>\n",
              "      <td>-0.094573</td>\n",
              "      <td>0.019775</td>\n",
              "      <td>-0.026483</td>\n",
              "      <td>0.035465</td>\n",
              "      <td>-0.047494</td>\n",
              "    </tr>\n",
              "    <tr>\n",
              "      <th>4</th>\n",
              "      <td>1</td>\n",
              "      <td>1</td>\n",
              "      <td>-0.513250</td>\n",
              "      <td>0.263426</td>\n",
              "      <td>-0.238990</td>\n",
              "      <td>-0.135203</td>\n",
              "      <td>0.122661</td>\n",
              "      <td>-0.111283</td>\n",
              "      <td>0.069393</td>\n",
              "      <td>-0.062956</td>\n",
              "      <td>0.057116</td>\n",
              "      <td>-0.051818</td>\n",
              "    </tr>\n",
              "  </tbody>\n",
              "</table>\n",
              "</div>\n",
              "      <button class=\"colab-df-convert\" onclick=\"convertToInteractive('df-2d02476d-4f53-49e6-bc51-65e9b06e7f1f')\"\n",
              "              title=\"Convert this dataframe to an interactive table.\"\n",
              "              style=\"display:none;\">\n",
              "        \n",
              "  <svg xmlns=\"http://www.w3.org/2000/svg\" height=\"24px\"viewBox=\"0 0 24 24\"\n",
              "       width=\"24px\">\n",
              "    <path d=\"M0 0h24v24H0V0z\" fill=\"none\"/>\n",
              "    <path d=\"M18.56 5.44l.94 2.06.94-2.06 2.06-.94-2.06-.94-.94-2.06-.94 2.06-2.06.94zm-11 1L8.5 8.5l.94-2.06 2.06-.94-2.06-.94L8.5 2.5l-.94 2.06-2.06.94zm10 10l.94 2.06.94-2.06 2.06-.94-2.06-.94-.94-2.06-.94 2.06-2.06.94z\"/><path d=\"M17.41 7.96l-1.37-1.37c-.4-.4-.92-.59-1.43-.59-.52 0-1.04.2-1.43.59L10.3 9.45l-7.72 7.72c-.78.78-.78 2.05 0 2.83L4 21.41c.39.39.9.59 1.41.59.51 0 1.02-.2 1.41-.59l7.78-7.78 2.81-2.81c.8-.78.8-2.07 0-2.86zM5.41 20L4 18.59l7.72-7.72 1.47 1.35L5.41 20z\"/>\n",
              "  </svg>\n",
              "      </button>\n",
              "      \n",
              "  <style>\n",
              "    .colab-df-container {\n",
              "      display:flex;\n",
              "      flex-wrap:wrap;\n",
              "      gap: 12px;\n",
              "    }\n",
              "\n",
              "    .colab-df-convert {\n",
              "      background-color: #E8F0FE;\n",
              "      border: none;\n",
              "      border-radius: 50%;\n",
              "      cursor: pointer;\n",
              "      display: none;\n",
              "      fill: #1967D2;\n",
              "      height: 32px;\n",
              "      padding: 0 0 0 0;\n",
              "      width: 32px;\n",
              "    }\n",
              "\n",
              "    .colab-df-convert:hover {\n",
              "      background-color: #E2EBFA;\n",
              "      box-shadow: 0px 1px 2px rgba(60, 64, 67, 0.3), 0px 1px 3px 1px rgba(60, 64, 67, 0.15);\n",
              "      fill: #174EA6;\n",
              "    }\n",
              "\n",
              "    [theme=dark] .colab-df-convert {\n",
              "      background-color: #3B4455;\n",
              "      fill: #D2E3FC;\n",
              "    }\n",
              "\n",
              "    [theme=dark] .colab-df-convert:hover {\n",
              "      background-color: #434B5C;\n",
              "      box-shadow: 0px 1px 3px 1px rgba(0, 0, 0, 0.15);\n",
              "      filter: drop-shadow(0px 1px 2px rgba(0, 0, 0, 0.3));\n",
              "      fill: #FFFFFF;\n",
              "    }\n",
              "  </style>\n",
              "\n",
              "      <script>\n",
              "        const buttonEl =\n",
              "          document.querySelector('#df-2d02476d-4f53-49e6-bc51-65e9b06e7f1f button.colab-df-convert');\n",
              "        buttonEl.style.display =\n",
              "          google.colab.kernel.accessAllowed ? 'block' : 'none';\n",
              "\n",
              "        async function convertToInteractive(key) {\n",
              "          const element = document.querySelector('#df-2d02476d-4f53-49e6-bc51-65e9b06e7f1f');\n",
              "          const dataTable =\n",
              "            await google.colab.kernel.invokeFunction('convertToInteractive',\n",
              "                                                     [key], {});\n",
              "          if (!dataTable) return;\n",
              "\n",
              "          const docLinkHtml = 'Like what you see? Visit the ' +\n",
              "            '<a target=\"_blank\" href=https://colab.research.google.com/notebooks/data_table.ipynb>data table notebook</a>'\n",
              "            + ' to learn more about interactive tables.';\n",
              "          element.innerHTML = '';\n",
              "          dataTable['output_type'] = 'display_data';\n",
              "          await google.colab.output.renderOutput(dataTable, element);\n",
              "          const docLink = document.createElement('div');\n",
              "          docLink.innerHTML = docLinkHtml;\n",
              "          element.appendChild(docLink);\n",
              "        }\n",
              "      </script>\n",
              "    </div>\n",
              "  </div>\n",
              "  "
            ]
          },
          "metadata": {},
          "execution_count": 23
        }
      ],
      "source": [
        "degree = 5\n",
        "x1 = data2['Test 1']\n",
        "x2 = data2['Test 2']\n",
        "\n",
        "data2.insert(3, 'Ones', 1)\n",
        "\n",
        "for i in range(1, degree):\n",
        "    for j in range(0, i):\n",
        "        data2['F' + str(i) + str(j)] = np.power(x1, i-j) * np.power(x2, j)\n",
        "\n",
        "data2.drop('Test 1', axis=1, inplace=True)\n",
        "data2.drop('Test 2', axis=1, inplace=True)\n",
        "\n",
        "data2.head()"
      ]
    },
    {
      "cell_type": "markdown",
      "source": [
        "**Penjelasan**\n",
        "\n",
        "Pada kode di atas, pertama-tama variabel degree diberi nilai 5. Kemudian, variabel x1 diisi dengan kolom 'Test 1' dari dataframe data2, dan variabel x2 diisi dengan kolom 'Test 2' dari dataframe data2.\n",
        "\n",
        "Setelah itu, pada baris ketiga, kolom 'Ones' dengan nilai 1 ditambahkan ke dataframe data2 pada indeks ke-3.\n",
        "\n",
        "Lalu, pada blok perulangan for, looping dilakukan sebanyak degree - 1 kali. Pada setiap iterasinya, looping dilakukan lagi dengan indeks j yang dimulai dari 0 hingga i. Pada setiap iterasi dari looping kedua ini, kolom baru dengan nama 'F' + str(i) + str(j) ditambahkan ke dataframe data2, diisi dengan hasil dari perpangkatan x1 dengan i-j dan x2 dengan j.\n",
        "\n",
        "Setelah itu, kolom 'Test 1' dan 'Test 2' dihapus dari dataframe data2 dengan menggunakan method drop(). Kemudian, method head() pada dataframe data2 dijalankan untuk menampilkan 5 baris pertama dari dataframe tersebut."
      ],
      "metadata": {
        "id": "kDIGJ4asTTvz"
      }
    },
    {
      "cell_type": "markdown",
      "metadata": {
        "id": "a3dRxV4lttEN"
      },
      "source": [
        "**Tahap 3**\n",
        "\n",
        "Sekarang kita perlu memodifikasi fungsi biaya dan gradient dari bagian 1 untuk mencakup istilah regularisasi. Pertama, fungsi biaya:"
      ]
    },
    {
      "cell_type": "code",
      "source": [
        "# menghitung fungsi sigmoid untuk mengubah nilai menjadi rentang 0 - 1\n",
        "def sigmoid(x):\n",
        "  return 1/(1 + np.exp(-x))"
      ],
      "metadata": {
        "id": "aubi_8Qx54yk"
      },
      "execution_count": 24,
      "outputs": []
    },
    {
      "cell_type": "code",
      "execution_count": 26,
      "metadata": {
        "id": "04KJ7aWottEN"
      },
      "outputs": [],
      "source": [
        "# menghitung fungsi cost guna mengevaluasi model\n",
        "def costReg(theta, X, y, learningRate):\n",
        "    theta = np.matrix(theta)\n",
        "    X = np.matrix(X)\n",
        "    y = np.matrix(y)\n",
        "    first = np.multiply(-y, np.log(sigmoid(X * theta.T)))\n",
        "    second = np.multiply((1 - y), np.log(1 - sigmoid(X * theta.T)))\n",
        "    reg = (learningRate / 2 * len(X)) * np.sum(np.power(theta[:,1:theta.shape[1]], 2))\n",
        "    return np.sum(first - second) / (len(X)) + reg"
      ]
    },
    {
      "cell_type": "markdown",
      "metadata": {
        "id": "LI_Lsp5VttEO"
      },
      "source": [
        "**Pejelasan**\n",
        "\n",
        "Perhatikan istilah \"reg\" dalam persamaan. Juga perhatikan penambahan parameter \"learning rate\". Ini adalah hyperparameter yang mengontrol efektivitas istilah regularisasi. Sekarang kita perlu menambahkan regularisasi ke fungsi gradient:"
      ]
    },
    {
      "cell_type": "code",
      "execution_count": 27,
      "metadata": {
        "id": "5wJq4GJBttEO"
      },
      "outputs": [],
      "source": [
        "# gradien digukan untuk melakukan peminimalan nilai cost function\n",
        "def gradientReg(theta, X, y, learningRate):\n",
        "    theta = np.matrix(theta)\n",
        "    X = np.matrix(X)\n",
        "    y = np.matrix(y)\n",
        "    \n",
        "    parameters = int(theta.ravel().shape[1])\n",
        "    grad = np.zeros(parameters)\n",
        "    \n",
        "    error = sigmoid(X * theta.T) - y\n",
        "    \n",
        "    for i in range(parameters):\n",
        "        term = np.multiply(error, X[:,i])\n",
        "        \n",
        "        if (i == 0):\n",
        "            grad[i] = np.sum(term) / len(X)\n",
        "        else:\n",
        "            grad[i] = (np.sum(term) / len(X)) + ((learningRate / len(X)) * theta[:,i])\n",
        "    \n",
        "    return grad"
      ]
    },
    {
      "cell_type": "markdown",
      "metadata": {
        "id": "zCnflqu8ttEO"
      },
      "source": [
        "**Tahap 4**\n",
        "\n",
        "Initialize variables like we did in part 1."
      ]
    },
    {
      "cell_type": "code",
      "execution_count": 28,
      "metadata": {
        "id": "nd33gghrttEP"
      },
      "outputs": [],
      "source": [
        "# set X and y (remember from above that we moved the label to column 0)\n",
        "cols = data2.shape[1]\n",
        "X2 = data2.iloc[:,1:cols]\n",
        "y2 = data2.iloc[:,0:1]\n",
        "\n",
        "# convert to numpy arrays and initalize the parameter array theta\n",
        "X2 = np.array(X2.values)\n",
        "y2 = np.array(y2.values)\n",
        "theta2 = np.zeros(11)"
      ]
    },
    {
      "cell_type": "markdown",
      "metadata": {
        "id": "VIic4iqtttEP"
      },
      "source": [
        "**Tahap 5**\n",
        "\n",
        "Mari kita inisialisasikan learning rate kita dengan nilai yang masuk akal. Kita dapat memainkan nilai ini nanti jika perlu (misalnya jika penalisasi terlalu kuat atau tidak cukup kuat)."
      ]
    },
    {
      "cell_type": "code",
      "execution_count": 29,
      "metadata": {
        "id": "PDWczWKzttEP"
      },
      "outputs": [],
      "source": [
        "learningRate = 1"
      ]
    },
    {
      "cell_type": "markdown",
      "metadata": {
        "id": "2xr1oCLzttEQ"
      },
      "source": [
        "**Tahap 6**\n",
        "\n",
        "Sekarang mari kita coba memanggil fungsi regularisasi baru kita dengan nilai default (0) untuk theta untuk memastikan perhitungannya bekerja."
      ]
    },
    {
      "cell_type": "code",
      "execution_count": 30,
      "metadata": {
        "id": "JTOb8wl0ttEQ",
        "colab": {
          "base_uri": "https://localhost:8080/"
        },
        "outputId": "e3d642e8-6730-4ac7-8d6f-6c7e785c91ae"
      },
      "outputs": [
        {
          "output_type": "execute_result",
          "data": {
            "text/plain": [
              "0.6931471805599454"
            ]
          },
          "metadata": {},
          "execution_count": 30
        }
      ],
      "source": [
        "costReg(theta2, X2, y2, learningRate)"
      ]
    },
    {
      "cell_type": "code",
      "execution_count": 31,
      "metadata": {
        "id": "7kiCKuYhttEQ",
        "colab": {
          "base_uri": "https://localhost:8080/"
        },
        "outputId": "940f4e22-ddf0-4272-dd3d-7b685e8279f8"
      },
      "outputs": [
        {
          "output_type": "execute_result",
          "data": {
            "text/plain": [
              "array([0.00847458, 0.01878809, 0.05034464, 0.01150133, 0.01835599,\n",
              "       0.00732393, 0.00819244, 0.03934862, 0.00223924, 0.01286005,\n",
              "       0.00309594])"
            ]
          },
          "metadata": {},
          "execution_count": 31
        }
      ],
      "source": [
        "gradientReg(theta2, X2, y2, learningRate)"
      ]
    },
    {
      "cell_type": "markdown",
      "metadata": {
        "id": "1GC8qZpUttEQ"
      },
      "source": [
        "**Tahap 7**\n",
        "\n",
        "Now we can use the same optimization function from part 1 to compute the optimal solution."
      ]
    },
    {
      "cell_type": "code",
      "execution_count": 32,
      "metadata": {
        "id": "_1EGUH2sttER",
        "colab": {
          "base_uri": "https://localhost:8080/"
        },
        "outputId": "f7aea522-574d-41d6-d4f8-41d382f808e4"
      },
      "outputs": [
        {
          "output_type": "execute_result",
          "data": {
            "text/plain": [
              "(array([ 1.22702480e-04,  7.19893533e-05, -3.74156020e-04, -1.44256518e-04,\n",
              "         2.93168594e-05, -5.64160697e-05, -1.02826715e-04, -2.83150640e-04,\n",
              "         6.47460472e-07, -1.99697745e-04, -1.68479401e-05]), 97, 1)"
            ]
          },
          "metadata": {},
          "execution_count": 32
        }
      ],
      "source": [
        "import scipy\n",
        "result2 = scipy.optimize.fmin_tnc(func=costReg, x0=theta2, fprime=gradientReg, args=(X2, y2, learningRate))\n",
        "result2"
      ]
    },
    {
      "cell_type": "markdown",
      "metadata": {
        "id": "H-_d1bUDttER"
      },
      "source": [
        "**Tahap 8**\n",
        "\n",
        "Finally, we can use the prediction function from part 1 to see how accurate our solution is on the training data."
      ]
    },
    {
      "cell_type": "code",
      "execution_count": 33,
      "metadata": {
        "id": "MxNqtagqttER",
        "colab": {
          "base_uri": "https://localhost:8080/"
        },
        "outputId": "1a933e88-c782-4ca0-d9b4-34baae6469eb"
      },
      "outputs": [
        {
          "output_type": "stream",
          "name": "stdout",
          "text": [
            "accuracy = 77%\n"
          ]
        }
      ],
      "source": [
        "theta_min = np.matrix(result2[0])\n",
        "predictions = predict(theta_min, X2)\n",
        "correct = [1 if ((a == 1 and b == 1) or (a == 0 and b == 0)) else 0 for (a, b) in zip(predictions, y2)]\n",
        "accuracy = (sum(map(int, correct)) % len(correct))\n",
        "print('accuracy = {0}%'.format(accuracy))"
      ]
    },
    {
      "cell_type": "markdown",
      "metadata": {
        "id": "ufqBFPoqttES"
      },
      "source": [
        "**Penjelasan**\n",
        "\n",
        "Meskipun kita telah mengimplementasikan algoritma ini dari awal, perlu dicatat bahwa kita juga dapat menggunakan library python tingkat tinggi seperti scikit-learn untuk menyelesaikan masalah ini. Dengan menggunakan scikit-learn, kita dapat dengan mudah menggunakan model regresi logistik dengan regularisasi dengan hanya beberapa baris kode saja. Library tersebut juga menyediakan banyak fitur yang berguna seperti cross-validation, pengaturan otomatis hyperparameter, dan visualisasi hasil."
      ]
    },
    {
      "cell_type": "code",
      "execution_count": 34,
      "metadata": {
        "id": "fYL-AUjJttES",
        "colab": {
          "base_uri": "https://localhost:8080/"
        },
        "outputId": "9e53de42-3a1a-4943-be35-fa94a71b6145"
      },
      "outputs": [
        {
          "output_type": "execute_result",
          "data": {
            "text/plain": [
              "LogisticRegression()"
            ]
          },
          "metadata": {},
          "execution_count": 34
        }
      ],
      "source": [
        "from sklearn import linear_model\n",
        "model = linear_model.LogisticRegression(penalty='l2', C=1.0)\n",
        "model.fit(X2, y2.ravel())"
      ]
    },
    {
      "cell_type": "code",
      "execution_count": 35,
      "metadata": {
        "id": "8WAplqCsttES",
        "colab": {
          "base_uri": "https://localhost:8080/"
        },
        "outputId": "9c2a1456-1abe-4742-f38f-c7a2cb8897eb"
      },
      "outputs": [
        {
          "output_type": "execute_result",
          "data": {
            "text/plain": [
              "0.6610169491525424"
            ]
          },
          "metadata": {},
          "execution_count": 35
        }
      ],
      "source": [
        "model.score(X2, y2)"
      ]
    },
    {
      "cell_type": "markdown",
      "metadata": {
        "id": "FYMowpkNttET"
      },
      "source": [
        "**Penjelasan**\n",
        "\n",
        "Akurasi yang dihasilkan jauh lebih rendah daripada yang kita peroleh sebelumnya, tetapi perlu diingat bahwa hasil ini menggunakan parameter default yang disediakan oleh scikit-learn. Kita mungkin perlu melakukan pengaturan parameter untuk mendapatkan akurasi yang sama dengan hasil sebelumnya. Library scikit-learn memiliki banyak fitur yang bisa digunakan untuk melakukan pengaturan parameter secara otomatis, seperti grid search dan random search. Kita juga dapat menggunakan metode manual seperti memodifikasi parameter secara bertahap dan mengevaluasi akurasi model setiap kali."
      ]
    }
  ],
  "metadata": {
    "colab": {
      "provenance": [],
      "collapsed_sections": [
        "135xAJEMttEK"
      ]
    },
    "kernelspec": {
      "display_name": "Python 2",
      "language": "python",
      "name": "python2"
    },
    "language_info": {
      "codemirror_mode": {
        "name": "ipython",
        "version": 2
      },
      "file_extension": ".py",
      "mimetype": "text/x-python",
      "name": "python",
      "nbconvert_exporter": "python",
      "pygments_lexer": "ipython2",
      "version": "2.7.9"
    }
  },
  "nbformat": 4,
  "nbformat_minor": 0
}